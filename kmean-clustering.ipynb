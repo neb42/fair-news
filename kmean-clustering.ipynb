{
 "cells": [
  {
   "cell_type": "code",
   "execution_count": 1,
   "metadata": {},
   "outputs": [
    {
     "name": "stdout",
     "output_type": "stream",
     "text": [
      "[nltk_data] Downloading package punkt to /home/sherlock/nltk_data...\n",
      "[nltk_data]   Package punkt is already up-to-date!\n",
      "[nltk_data] Downloading package averaged_perceptron_tagger to\n",
      "[nltk_data]     /home/sherlock/nltk_data...\n",
      "[nltk_data]   Package averaged_perceptron_tagger is already up-to-\n",
      "[nltk_data]       date!\n",
      "[nltk_data] Downloading package maxent_ne_chunker to\n",
      "[nltk_data]     /home/sherlock/nltk_data...\n",
      "[nltk_data]   Package maxent_ne_chunker is already up-to-date!\n",
      "[nltk_data] Downloading package words to /home/sherlock/nltk_data...\n",
      "[nltk_data]   Package words is already up-to-date!\n"
     ]
    },
    {
     "data": {
      "text/plain": [
       "True"
      ]
     },
     "execution_count": 1,
     "metadata": {},
     "output_type": "execute_result"
    }
   ],
   "source": [
    "# Download nltk corpora required\n",
    "import nltk\n",
    "nltk.download('punkt')\n",
    "nltk.download('averaged_perceptron_tagger')\n",
    "nltk.download('maxent_ne_chunker')\n",
    "nltk.download('words')"
   ]
  },
  {
   "cell_type": "code",
   "execution_count": 2,
   "metadata": {},
   "outputs": [],
   "source": [
    "# Import required packages\n",
    "import os\n",
    "import uuid\n",
    "import json\n",
    "import numpy as np\n",
    "import pandas as pd\n",
    "from goose3 import Goose\n",
    "from nltk import ne_chunk, pos_tag, word_tokenize\n",
    "from nltk.tree import Tree\n",
    "from newsapi import NewsApiClient\n",
    "from sklearn.feature_extraction.text import TfidfVectorizer\n",
    "from sklearn.cluster import KMeans\n",
    "from multiprocessing import Process, Queue\n",
    "from sklearn.decomposition import TruncatedSVD\n",
    "import matplotlib.pyplot as plt\n",
    "%matplotlib inline"
   ]
  },
  {
   "cell_type": "code",
   "execution_count": 3,
   "metadata": {},
   "outputs": [],
   "source": [
    "# Constants for fetching news articles\n",
    "news_sources = [\n",
    "    'bbc-news',\n",
    "    'vice-news',\n",
    "    'the-guardian-uk',\n",
    "    'independent',\n",
    "    'the-economist',\n",
    "    'the-telegraph',\n",
    "    'the-new-york-times',\n",
    "    'the-wall-street-journal',\n",
    "    'reuters',\n",
    "    'associated-press',\n",
    "]\n",
    "from_date = '2018-08-10T00:00:00'\n",
    "to_date = '2018-08-10T00:00:00'\n",
    "API_KEY = 'dbace9892af44bd8a61098abddb53d13'"
   ]
  },
  {
   "cell_type": "code",
   "execution_count": 4,
   "metadata": {},
   "outputs": [
    {
     "name": "stdout",
     "output_type": "stream",
     "text": [
      "25\n",
      "2470\n"
     ]
    }
   ],
   "source": [
    "# Fetch all articles in date range for news sources\n",
    "# Does not handle refetching the same article\n",
    "\n",
    "PAGE_SIZE = 100\n",
    "page = 1\n",
    "raw_articles = []\n",
    "newsapi = NewsApiClient(api_key=API_KEY)\n",
    "while True:\n",
    "    response =  newsapi.get_everything(\n",
    "        sources=','.join(news_sources),\n",
    "        from_param=from_date,\n",
    "        to=to_date,\n",
    "        language='en',\n",
    "        sort_by='publishedAt',\n",
    "        page=page,\n",
    "        page_size=PAGE_SIZE,\n",
    "    )\n",
    "    if response['status'] != 'ok':\n",
    "        raise Exception('Error querying news api', response)\n",
    "    raw_articles += response['articles']\n",
    "    if PAGE_SIZE * page >= response['totalResults']:\n",
    "        break;\n",
    "    page += 1\n",
    "print(page)\n",
    "print(len(raw_articles))    "
   ]
  },
  {
   "cell_type": "code",
   "execution_count": 5,
   "metadata": {},
   "outputs": [],
   "source": [
    "# A class to encapsulate an article\n",
    "# It uses the url to fetch the article content and extract named entities from it\n",
    "\n",
    "goose = Goose()\n",
    "\n",
    "class Article:\n",
    "    def __init__(self, url, title, description):\n",
    "        self.id = uuid.uuid4()\n",
    "        self.url = url\n",
    "        self.title = title\n",
    "        self.description = description\n",
    "        raw_content = goose.extract(url=url).cleaned_text\n",
    "        self.named_entities = self.extract_named_entities(raw_content)\n",
    "        \n",
    "    def extract_named_entities(self, text):\n",
    "        chunked = ne_chunk(pos_tag(word_tokenize(text)))\n",
    "        prev = None\n",
    "        continuous_chunk = []\n",
    "        current_chunk = []\n",
    "        for i in chunked:\n",
    "            if type(i) == Tree:\n",
    "                current_chunk.append(\" \".join([token for token, pos in i.leaves()]))\n",
    "            elif current_chunk:\n",
    "                named_entity = \" \".join(current_chunk)\n",
    "                if named_entity not in continuous_chunk:\n",
    "                    continuous_chunk.append(named_entity)\n",
    "                    current_chunk = []\n",
    "                else:\n",
    "                    continue\n",
    "        return continuous_chunk"
   ]
  },
  {
   "cell_type": "code",
   "execution_count": 6,
   "metadata": {},
   "outputs": [],
   "source": [
    "# Map over the raw articles from the news api and construct Article objects\n",
    "def single_core_article_builder():\n",
    "    articles = []\n",
    "\n",
    "    for a in raw_articles:\n",
    "        try:\n",
    "            articles.append(Article(a['url'], a['title'], a['description']))\n",
    "        except:\n",
    "            continue\n",
    "    return articles"
   ]
  },
  {
   "cell_type": "code",
   "execution_count": 7,
   "metadata": {},
   "outputs": [],
   "source": [
    "# Multicore article building\n",
    "def multi_core_article_builder():\n",
    "    CORES = int(os.environ['NUM_CPUS'])\n",
    "\n",
    "    def doWork(q, a):\n",
    "        results = []\n",
    "        for article in a:\n",
    "            try:\n",
    "                results.append(Article(\n",
    "                    article['url'],\n",
    "                    article['title'],\n",
    "                    article['description']\n",
    "                ))\n",
    "            except:\n",
    "                continue\n",
    "        q.put(results)\n",
    "\n",
    "    q = Queue()\n",
    "    subprocesses = []\n",
    "    for i in range(CORES):\n",
    "        start = int(i * (len(raw_articles)/CORES))\n",
    "        end = int((i + 1) * (len(raw_articles)/CORES))\n",
    "        p = Process(target=doWork, args=(q, raw_articles[start:end]))\n",
    "        p.start()\n",
    "        subprocesses.append(p)\n",
    "\n",
    "    articles = []\n",
    "    for i in range(CORES):\n",
    "        articles.extend(q.get(True))\n",
    "    while subprocesses:\n",
    "        subprocesses.pop().join()\n",
    "    return articles"
   ]
  },
  {
   "cell_type": "code",
   "execution_count": 8,
   "metadata": {},
   "outputs": [
    {
     "name": "stdout",
     "output_type": "stream",
     "text": [
      "Running on 4 cores\n",
      "CPU times: user 48 ms, sys: 48 ms, total: 96 ms\n",
      "Wall time: 8min 23s\n",
      "Finished\n"
     ]
    }
   ],
   "source": [
    "CORES = int(os.environ['NUM_CPUS'])\n",
    "\n",
    "if CORES > 1:\n",
    "    print(f'Running on {CORES} cores')\n",
    "    %time articles = multi_core_article_builder()\n",
    "else:\n",
    "    print('Running on single core')\n",
    "    %time articles = single_core_article_builder()\n",
    "print('Finished')"
   ]
  },
  {
   "cell_type": "code",
   "execution_count": 9,
   "metadata": {},
   "outputs": [
    {
     "name": "stdout",
     "output_type": "stream",
     "text": [
      "CPU times: user 136 ms, sys: 4 ms, total: 140 ms\n",
      "Wall time: 167 ms\n",
      "(2451, 14277)\n"
     ]
    }
   ],
   "source": [
    "# Create tf_idf matrix from articles\n",
    "named_entities_list = list(map(lambda x: ' '.join(x.named_entities), articles))\n",
    "tfidf_vectorizer = TfidfVectorizer()\n",
    "%time tfidf_matrix = tfidf_vectorizer.fit_transform(named_entities_list)\n",
    "print(tfidf_matrix.shape)"
   ]
  },
  {
   "cell_type": "code",
   "execution_count": 10,
   "metadata": {},
   "outputs": [
    {
     "name": "stdout",
     "output_type": "stream",
     "text": [
      "CPU times: user 10.2 s, sys: 572 ms, total: 10.8 s\n",
      "Wall time: 2.73 s\n"
     ]
    }
   ],
   "source": [
    "# Run k-means clustering on tf_idf matrix\n",
    "num_clusters = 7\n",
    "km = KMeans(n_clusters=num_clusters)\n",
    "%time km.fit(tfidf_matrix)\n",
    "clusters = km.labels_.tolist()"
   ]
  },
  {
   "cell_type": "code",
   "execution_count": 11,
   "metadata": {
    "scrolled": false
   },
   "outputs": [
    {
     "name": "stdout",
     "output_type": "stream",
     "text": [
      "Top terms per cluster:\n",
      "Cluster 0:\n",
      "britain uk fraser london british ryanair france brexit house eu\n",
      "Cluster 1:\n",
      "turkey turkish erdogan trump ankara tayyip states european united washington\n",
      "Cluster 2:\n",
      "mourinho manchester city guardiola liverpool united emery arsenal chelsea sarri\n",
      "Cluster 3:\n",
      "new canada york fredericton mexico canadian pga saudi woodland reuters\n",
      "Cluster 4:\n",
      "ap reuters county india england new united university north south\n",
      "Cluster 5:\n",
      "trump russia house russian donald white washington united states us\n",
      "Cluster 6:\n",
      "china chinese beijing iran united states reuters xinjiang lvmh european\n"
     ]
    }
   ],
   "source": [
    "def print_cluster_terms():\n",
    "    print(\"Top terms per cluster:\")\n",
    "    order_centroids = km.cluster_centers_.argsort()[:, ::-1]\n",
    "    terms = tfidf_vectorizer.get_feature_names()\n",
    "    for i in range(num_clusters):\n",
    "        print(\"Cluster %d:\" % i),\n",
    "        cluster_terms = []\n",
    "        for ind in order_centroids[i, :10]:\n",
    "             cluster_terms.append(terms[ind])\n",
    "        print(' '.join(cluster_terms))\n",
    "        print\n",
    "print_cluster_terms()"
   ]
  },
  {
   "cell_type": "code",
   "execution_count": 12,
   "metadata": {},
   "outputs": [
    {
     "name": "stdout",
     "output_type": "stream",
     "text": [
      "['HOUSE Of Fraser', 'Mike Ashley', 'Sports Direct', 'Ashley', 'Sports Direct Newcastle United', 'Ashley House', 'Fraser', 'Ashley Pension Protection Fund', 'Sports Direct Mike Ashley', 'Edinburgh Wollen Mill', 'Philip', 'Alteri', 'Endless', 'Mike Ashley House', 'Fraser Harrods', 'High', 'House', 'Fraser Company', 'CVA', 'Alex Williamson', 'House Fraser', 'Frank Slevin', 'House Fraser Cenbest', 'House Fraser Glasgow', 'Hugh Fraser', 'James Arthur', 'Second', 'Unions', 'Sport Direct', 'East Midlands', 'MPs', 'Victorian', 'Scott Lennon', 'Unite', 'Sports Direct House', 'Fraser House', 'Fraser BHS', 'Toys R Us', 'UK', 'Poundworld', 'Sun Online Money', 'Sun Money', 'Facebook']\n",
      "[0]\n"
     ]
    }
   ],
   "source": [
    "test_url = 'https://www.thesun.co.uk/money/6983750/house-of-fraser-administration-mike-ashley-sports-direct-cash/'\n",
    "test_article = Article(test_url, '', '')\n",
    "print(test_article.named_entities)\n",
    "Y = tfidf_vectorizer.transform([' '.join(test_article.named_entities)])\n",
    "prediction = km.predict(Y)\n",
    "print(prediction)"
   ]
  },
  {
   "cell_type": "code",
   "execution_count": 13,
   "metadata": {},
   "outputs": [],
   "source": [
    "clusters = km.predict(tfidf_matrix)"
   ]
  },
  {
   "cell_type": "code",
   "execution_count": 14,
   "metadata": {},
   "outputs": [],
   "source": [
    "cluster_article_map = {}\n",
    "cluster_article_title_map = {}\n",
    "for i in range(len(articles)):\n",
    "    cluster = clusters[i]\n",
    "    article = articles[i]\n",
    "    if cluster in cluster_article_map.keys():\n",
    "        cluster_article_map[cluster].append(article)\n",
    "    else:\n",
    "        cluster_article_map[cluster] = [article]\n",
    "    if cluster in cluster_article_title_map.keys():\n",
    "        cluster_article_title_map[cluster].append(article.title)\n",
    "    else:\n",
    "        cluster_article_title_map[cluster] = [article.title]"
   ]
  },
  {
   "cell_type": "code",
   "execution_count": 15,
   "metadata": {},
   "outputs": [
    {
     "data": {
      "text/plain": [
       "['Man Utd v Leicester - Pogba captain, Lukaku & Vardy subs - BBC Sport',\n",
       " 'Arsenal news: Unai Emery quietly confident that he can finally end long losing streak to Pep Guardiola',\n",
       " 'Manchester United vs Leicester City, Premier League 2018-19: live score and latest updates',\n",
       " 'Maurizio Sarri warns against quick fix at Chelsea ahead of season opener',\n",
       " 'Unai Emery starts from a fresh slate at Arsenal - and herein lays his greatest challenge',\n",
       " 'Jamie Vardy ends transfer speculation and commits long-term future to Leicester City',\n",
       " 'Manchester City manager Pep Guardiola hits out at Argentina FA president for salary comments',\n",
       " 'Arsenal vs Manchester City, Premier League 18-19: What time is kick-off on Sunday, what TV channel is it on and what is our prediction?',\n",
       " 'How will Manchester United line-up this season? How Fred, Paul Pogba and Anthony Martial fit into the same side',\n",
       " 'Danny Welbeck: Arsenal boss Unai Emery does not plan to sell forward this summer',\n",
       " 'Midfielder Douglas Luiz refused work permit at Manchester City',\n",
       " 'The Fiver | A weekend of undercooked teams fumbling for cohesion',\n",
       " 'Amid changing perceptions and expectations, Jurgen Klopp faces fresh new challenges at Liverpool',\n",
       " \"Douglas Luiz: Pep Guardiola 'sad and disappointed' over rejected work permit\",\n",
       " 'Kevin De Bruyne and Raheem Sterling fit to play in Manchester City opener against Arsenal',\n",
       " \"Pep Guardiola left frustrated after the FA refuse to grant Manchester City's Douglas Luiz a work permit\",\n",
       " 'Arsenal transfer news: Unai Emery says Danny Welbeck will not be sold, although Carl Jenkinson, David Ospina and Joel Campbell all surplus to requirements',\n",
       " 'Liverpool can ensure Premier League is not eternal lap of honour for City | Barney Ronay',\n",
       " \"Eden Hazard 'happy to stay' at Chelsea, says Maurizio Sarri\",\n",
       " '‘Forget the name’: José Mourinho takes aim at Manchester United’s board',\n",
       " \"Jose Mourinho claims modern managers are 'head coaches' after Manchester United beat Leicester\",\n",
       " \"Jose Mourinho says job title should be 'head coach' not manager as his discontent at Man Utd transfer policy lingers\",\n",
       " 'UPDATE 1-Soccer-Pogba penalty sets United on way to win over Leicester',\n",
       " \"Malcom 'rejected move out of revenge' - gossip\",\n",
       " 'Jürgen Klopp: Liverpool are like Rocky Balboa, not Ivan Drago - The Guardian',\n",
       " 'Maurizio Sarri believes he will need time to transform Chelsea',\n",
       " 'Mark Hughes believes Southampton have not taken risk with Danny Ings',\n",
       " \"Jurgen Klopp: 'Liverpool are like Rocky Balboa not Ivan Drago'\",\n",
       " \"Maurizio Sarri anticipates early season 'problems' before Chelsea reach full potential\",\n",
       " 'Unai Emery names five Arsenal captains with Petr Cech expected to lead side against Manchester City',\n",
       " 'Unai Emery hoping to turn the tables on his old rival Pep Guardiola - The Guardian',\n",
       " 'Win over Leicester unlikely to put an end to José Mourinho moanathon | Jamie Jackson',\n",
       " 'Luke Shaw scores to cap Manchester United dream start against Leicester',\n",
       " 'Captain Paul Pogba ensures he stands out from the crowd with commanding display',\n",
       " 'Man United beats Leicester 2-1 in Premier League opener',\n",
       " 'Luke Shaw scores first professional goal as Manchester United begin season with edgy win over Leicester',\n",
       " 'Premier League predictions: Telegraph writers select their bankers for the season',\n",
       " 'Transfer window rankings: Manchester United and Spurs bottom of the pile as Merseyside makes a serious statement',\n",
       " 'Premier League 2018-19 definitive club-by-club guide: Likely line-ups, best signings - and our prediction',\n",
       " 'What Manchester United can learn from the buying of a frozen turkey',\n",
       " 'Manchester United vs Leicester City LIVE: Latest news, predictions, how to watch, TV channel, betting tips and odds from Premier League opening fixture',\n",
       " 'Premier League: countdown to the new 2018-19 season – live!',\n",
       " 'Manchester United vs Leicester City, Premier League 2018-19: What time is kick-off, what TV channel is it on and what is our prediction?',\n",
       " 'Premier League: 10 things to look out for on the opening weekend',\n",
       " \"Football transfer rumours: Is Spurs' Danny Rose heading for PSG?\",\n",
       " 'After a tumultuous start to the summer, Chelsea emerge relatively unscathed and ready to go again',\n",
       " 'Premier League preview: How one issue could frame the entire 2018/19 season',\n",
       " 'Transfer news, rumours LIVE: Manchester United vetoed Raphael Varane move, Paul Pogba offered to Barcelona, Kurt Zouma to Everton, latest rumours, gossip',\n",
       " 'Premier League 2018/19 pools: Beat the streak and become a millionaire',\n",
       " 'Manchester City manager Pep Guardiola in personal plea for Douglas Luiz work permit but left frustrated by rejection',\n",
       " 'Bacary Sagna in no hurry to forget Arsene Wenger success as Unai Emery leads new Arsenal era',\n",
       " 'Huddersfield Town v Chelsea: match preview',\n",
       " 'Telegraph Fantasy Football 18/19 tips: Sam Wallace picks his Premier League XI for the upcoming season',\n",
       " 'Arsenal v Manchester City',\n",
       " 'Liverpool vs West Ham, Premier League 2018-19: What time is kick-off on Sunday, what TV channel is it on and what is our prediction?',\n",
       " \"Liverpool's rivals have problems - this is their moment to push City in title race\",\n",
       " \"'We are still Rocky Balboa': Jürgen Klopp on Liverpool's fight for the title – video\",\n",
       " 'Premier League predictions: Who will win the title, best signings, relegation, who will do a Mohamed Salah and will Jose Mourinho see out the season?',\n",
       " 'Jurgen Klopp concedes expectations are high at Liverpool after strong summer window',\n",
       " 'Liverpool v West Ham United',\n",
       " 'After World Cup disappointment, Antonio Rudiger is ready to get back to the grind with Chelsea',\n",
       " \"An era of dominance beckons for Pep Guardiola's irrepressible Manchester City\",\n",
       " \"Exclusive: Manchester United branded 'beyond arrogant' by campaigners over failure to pay all workers 'real' Living Wage\",\n",
       " 'From Naby Keita to Mohamed Salah: How will Liverpool line up this season?',\n",
       " 'It’s back! The ever-changing, unignorable Premier League returns| Paul Wilson',\n",
       " 'How the season began 30 years ago: TV money, transfers and Tony Cottee',\n",
       " 'Where Arsenal can look to exploit Man City - and how Pep Guardiola fluid tactical set-up causes headaches',\n",
       " \"David Squires on … emo Mourinho's Premier League 2018-19 preview\",\n",
       " 'Huddersfield Town v Chelsea',\n",
       " 'Arsenal news: Unai Emery challenges his new team to start their season with a bang against Manchester City']"
      ]
     },
     "execution_count": 15,
     "metadata": {},
     "output_type": "execute_result"
    }
   ],
   "source": [
    "cluster_article_title_map[2]"
   ]
  },
  {
   "cell_type": "code",
   "execution_count": 16,
   "metadata": {
    "scrolled": true
   },
   "outputs": [
    {
     "data": {
      "image/png": "[encoded data removed]",
      "text/plain": [
       "<Figure size 432x288 with 1 Axes>"
      ]
     },
     "metadata": {},
     "output_type": "display_data"
    }
   ],
   "source": [
    "plt.hist(km.labels_, bins=num_clusters)\n",
    "plt.show()"
   ]
  },
  {
   "cell_type": "code",
   "execution_count": 17,
   "metadata": {},
   "outputs": [
    {
     "name": "stdout",
     "output_type": "stream",
     "text": [
      "\n",
      "\n"
     ]
    }
   ],
   "source": [
    "\n",
    "import os  # for os.path.basename\n",
    "\n",
    "import matplotlib.pyplot as plt\n",
    "import matplotlib as mpl\n",
    "\n",
    "from sklearn.manifold import MDS\n",
    "from sklearn.metrics.pairwise import cosine_similarity\n",
    "\n",
    "dist = 1 - cosine_similarity(tfidf_matrix)\n",
    "\n",
    "MDS()\n",
    "\n",
    "# convert two components as we're plotting points in a two-dimensional plane\n",
    "# \"precomputed\" because we provide a distance matrix\n",
    "# we will also specify `random_state` so the plot is reproducible.\n",
    "mds = MDS(n_components=2, dissimilarity=\"precomputed\", random_state=1)\n",
    "\n",
    "pos = mds.fit_transform(dist)  # shape (n_components, n_samples)\n",
    "\n",
    "xs, ys = pos[:, 0], pos[:, 1]\n",
    "print()\n",
    "print()\n",
    "\n",
    "titles = list(map(lambda x: x.title, articles))\n",
    "df = pd.DataFrame(dict(x=xs, y=ys, label=clusters, title=titles)) "
   ]
  },
  {
   "cell_type": "code",
   "execution_count": 18,
   "metadata": {},
   "outputs": [],
   "source": [
    "#set up colors per clusters using a dict\n",
    "cluster_colors = {\n",
    "    0: '#FFE981',\n",
    "    1: '#FF6748',\n",
    "    2: '#BBDED6',\n",
    "    3: '#BEEB9F',\n",
    "    4: '#F8B595',\n",
    "    5: '#F67280',\n",
    "    6: '#C06C84',\n",
    "    7: '#6C5B7C',\n",
    "    8: '#FFB6B9',\n",
    "    9: '#FF9797',\n",
    "}\n",
    "\n",
    "#set up cluster names using a dict\n",
    "cluster_names = {\n",
    "    0: 'A', \n",
    "    1: 'B', \n",
    "    2: 'C', \n",
    "    3: 'D', \n",
    "    4: 'E',\n",
    "    5: 'F',\n",
    "    6: 'G',\n",
    "    7: 'H',\n",
    "    8: 'I',\n",
    "    9: 'J',\n",
    "}"
   ]
  },
  {
   "cell_type": "code",
   "execution_count": 19,
   "metadata": {
    "scrolled": true
   },
   "outputs": [
    {
     "name": "stderr",
     "output_type": "stream",
     "text": [
      "/opt/anaconda/envs/Python3/lib/python3.6/site-packages/matplotlib/cbook/deprecation.py:107: MatplotlibDeprecationWarning: Passing one of 'on', 'true', 'off', 'false' as a boolean is deprecated; use an actual boolean (True/False) instead.\n",
      "  warnings.warn(message, mplDeprecation, stacklevel=1)\n"
     ]
    },
    {
     "data": {
      "image/png": "[encoded data removed]",
      "text/plain": [
       "<Figure size 1224x648 with 1 Axes>"
      ]
     },
     "metadata": {},
     "output_type": "display_data"
    }
   ],
   "source": [
    "%matplotlib inline \n",
    "#group by cluster\n",
    "groups = df.groupby('label')\n",
    "\n",
    "\n",
    "# set up plot\n",
    "fig, ax = plt.subplots(figsize=(17, 9)) # set size\n",
    "ax.margins(0.05) # Optional, just adds 5% padding to the autoscaling\n",
    "\n",
    "#iterate through groups to layer the plot\n",
    "#note that I use the cluster_name and cluster_color dicts with the 'name' lookup to return the appropriate color/label\n",
    "for name, group in groups:\n",
    "    if name == 4:\n",
    "        continue\n",
    "    ax.plot(\n",
    "        group.x,\n",
    "        group.y,\n",
    "        marker='o',\n",
    "        linestyle='',\n",
    "        ms=12, \n",
    "        label=cluster_names[name],\n",
    "        color=cluster_colors[name], \n",
    "        mec='none'\n",
    "    )\n",
    "    ax.set_aspect('auto')\n",
    "    ax.tick_params(\n",
    "        axis= 'x',          # changes apply to the x-axis\n",
    "        which='both',      # both major and minor ticks are affected\n",
    "        bottom='off',      # ticks along the bottom edge are off\n",
    "        top='off',         # ticks along the top edge are off\n",
    "        labelbottom='off')\n",
    "    ax.tick_params(\n",
    "        axis= 'y',         # changes apply to the y-axis\n",
    "        which='both',      # both major and minor ticks are affected\n",
    "        left='off',      # ticks along the bottom edge are off\n",
    "        top='off',         # ticks along the top edge are off\n",
    "        labelleft='off')\n",
    "    \n",
    "ax.legend(numpoints=1)  #show legend with only 1 point\n",
    "\n",
    "#add label in x,y position with the label as the film title\n",
    "#for i in range(len(df)):\n",
    "#    ax.text(df.iloc[i]['x'], df.iloc[i]['y'], df.iloc[i]['title'], size=8)  \n",
    "\n",
    "    \n",
    "    \n",
    "plt.show() #show the plot"
   ]
  },
  {
   "cell_type": "code",
   "execution_count": 20,
   "metadata": {},
   "outputs": [
    {
     "name": "stdout",
     "output_type": "stream",
     "text": [
      "Top terms per cluster:\n",
      "Cluster 0:\n",
      "britain uk fraser london british ryanair france brexit house eu\n",
      "Cluster 1:\n",
      "turkey turkish erdogan trump ankara tayyip states european united washington\n",
      "Cluster 2:\n",
      "mourinho manchester city guardiola liverpool united emery arsenal chelsea sarri\n",
      "Cluster 3:\n",
      "new canada york fredericton mexico canadian pga saudi woodland reuters\n",
      "Cluster 4:\n",
      "ap reuters county india england new united university north south\n",
      "Cluster 5:\n",
      "trump russia house russian donald white washington united states us\n",
      "Cluster 6:\n",
      "china chinese beijing iran united states reuters xinjiang lvmh european\n"
     ]
    }
   ],
   "source": [
    "print_cluster_terms()"
   ]
  },
  {
   "cell_type": "code",
   "execution_count": 40,
   "metadata": {},
   "outputs": [
    {
     "name": "stdout",
     "output_type": "stream",
     "text": [
      "2451\n",
      "2452\n",
      "(2452, 14281)\n",
      "[[0.         0.61613043 0.62682906 0.65867035 0.68475849 0.73014314\n",
      "  0.73014314 0.73014314 0.73014314]] [[2451 1381 1414 2106 2318 2190 1384 1383 2286]]\n",
      "   distance                                             titles\n",
      "0  0.616130  House of Fraser calls in administrators as res...\n",
      "1  0.626829            House of Fraser calls in administrators\n",
      "2  0.658670  House of Fraser takeover: Unions warn of job f...\n",
      "3  0.684758  Sports Direct owner Mike Ashley confirms purch...\n",
      "4  0.730143  UPDATE 3-Sports Direct snaps up House of Frase...\n",
      "5  0.730143  UPDATE 1-UK retailer House of Fraser set to ap...\n",
      "6  0.730143  House of Fraser set to appoint administrators ...\n",
      "7  0.730143  Sports Direct buys House of Fraser from admini...\n"
     ]
    }
   ],
   "source": [
    "from sklearn.neighbors import NearestNeighbors\n",
    "\n",
    "# Create tf_idf matrix from articles\n",
    "test_named_entities_list = list(map(lambda x: ' '.join(x.named_entities), articles))\n",
    "print(len(test_named_entities_list))\n",
    "test_named_entities_list.append(' '.join(test_article.named_entities))\n",
    "print(len(test_named_entities_list))\n",
    "test_tfidf_vectorizer = TfidfVectorizer()\n",
    "test_tfidf_matrix = test_tfidf_vectorizer.fit_transform(test_named_entities_list)\n",
    "print(test_tfidf_matrix.shape)\n",
    "nbrs = NearestNeighbors(n_neighbors=9) \n",
    "nbrs.fit(test_tfidf_matrix)\n",
    "\n",
    "distances, indices = nbrs.kneighbors(test_tfidf_matrix.getrow(len(test_named_entities_list) - 1))\n",
    "print(distances, indices)\n",
    "similar_articles = []\n",
    "for idx in indices.flatten()[1:]:\n",
    "    similar_articles.append(articles[idx])\n",
    "\n",
    "result = pd.DataFrame({\n",
    "    'distance': distances.flatten()[1:],\n",
    "    'titles': list(map(lambda x: x.title, similar_articles)),\n",
    "})\n",
    "print(result)"
   ]
  },
  {
   "cell_type": "code",
   "execution_count": null,
   "metadata": {},
   "outputs": [],
   "source": []
  }
 ],
 "metadata": {
  "kernelspec": {
   "display_name": "Python [conda env:Python3]",
   "language": "python",
   "name": "conda-env-Python3-py"
  },
  "language_info": {
   "codemirror_mode": {
    "name": "ipython",
    "version": 3
   },
   "file_extension": ".py",
   "mimetype": "text/x-python",
   "name": "python",
   "nbconvert_exporter": "python",
   "pygments_lexer": "ipython3",
   "version": "3.6.5"
  }
 },
 "nbformat": 4,
 "nbformat_minor": 2
}
