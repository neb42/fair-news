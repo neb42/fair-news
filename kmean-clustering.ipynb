{
 "cells": [
  {
   "cell_type": "code",
   "execution_count": 2,
   "metadata": {},
   "outputs": [
    {
     "name": "stdout",
     "output_type": "stream",
     "text": [
      "[nltk_data] Downloading package punkt to /home/sherlock/nltk_data...\n",
      "[nltk_data]   Package punkt is already up-to-date!\n",
      "[nltk_data] Downloading package averaged_perceptron_tagger to\n",
      "[nltk_data]     /home/sherlock/nltk_data...\n",
      "[nltk_data]   Package averaged_perceptron_tagger is already up-to-\n",
      "[nltk_data]       date!\n",
      "[nltk_data] Downloading package maxent_ne_chunker to\n",
      "[nltk_data]     /home/sherlock/nltk_data...\n",
      "[nltk_data]   Package maxent_ne_chunker is already up-to-date!\n",
      "[nltk_data] Downloading package words to /home/sherlock/nltk_data...\n",
      "[nltk_data]   Package words is already up-to-date!\n"
     ]
    },
    {
     "data": {
      "text/plain": [
       "True"
      ]
     },
     "execution_count": 2,
     "metadata": {},
     "output_type": "execute_result"
    }
   ],
   "source": [
    "# Download nltk corpora required\n",
    "import nltk\n",
    "nltk.download('punkt')\n",
    "nltk.download('averaged_perceptron_tagger')\n",
    "nltk.download('maxent_ne_chunker')\n",
    "nltk.download('words')"
   ]
  },
  {
   "cell_type": "code",
   "execution_count": 18,
   "metadata": {},
   "outputs": [],
   "source": [
    "# Import required packages\n",
    "import os\n",
    "import uuid\n",
    "import json\n",
    "import numpy as np\n",
    "import pandas as pd\n",
    "from goose3 import Goose\n",
    "from nltk import ne_chunk, pos_tag, word_tokenize\n",
    "from nltk.tree import Tree\n",
    "from newsapi import NewsApiClient\n",
    "from sklearn.feature_extraction.text import TfidfVectorizer\n",
    "from sklearn.cluster import KMeans\n",
    "from multiprocessing import Process, Queue\n",
    "from sklearn.decomposition import TruncatedSVD\n",
    "import matplotlib.pyplot as plt\n",
    "%matplotlib inline"
   ]
  },
  {
   "cell_type": "code",
   "execution_count": 70,
   "metadata": {},
   "outputs": [],
   "source": [
    "# Constants for fetching news articles\n",
    "news_sources = [\n",
    "    'bbc-news',\n",
    "    'vice-news',\n",
    "    'the-guardian-uk',\n",
    "    'independent',\n",
    "    'the-economist',\n",
    "    'the-telegraph',\n",
    "    'the-new-york-times',\n",
    "    'the-wall-street-journal',\n",
    "    'reuters',\n",
    "    'associated-press',\n",
    "]\n",
    "from_date = '2018-04-26T00:00:00'\n",
    "to_date = '2018-04-27T00:00:00'\n",
    "API_KEY = 'dbace9892af44bd8a61098abddb53d13'"
   ]
  },
  {
   "cell_type": "code",
   "execution_count": 71,
   "metadata": {},
   "outputs": [
    {
     "name": "stdout",
     "output_type": "stream",
     "text": [
      "42\n",
      "4118\n"
     ]
    }
   ],
   "source": [
    "# Fetch all articles in date range for news sources\n",
    "# Does not handle refetching the same article\n",
    "\n",
    "PAGE_SIZE = 100\n",
    "page = 1\n",
    "raw_articles = []\n",
    "newsapi = NewsApiClient(api_key=API_KEY)\n",
    "while True:\n",
    "    response =  newsapi.get_everything(\n",
    "        sources=','.join(news_sources),\n",
    "        from_param=from_date,\n",
    "        to=to_date,\n",
    "        language='en',\n",
    "        sort_by='publishedAt',\n",
    "        page=page,\n",
    "        page_size=PAGE_SIZE,\n",
    "    )\n",
    "    if response['status'] != 'ok':\n",
    "        raise Exception('Error querying news api', response)\n",
    "    raw_articles += response['articles']\n",
    "    if PAGE_SIZE * page >= response['totalResults']:\n",
    "        break;\n",
    "    page += 1\n",
    "print(page)\n",
    "print(len(raw_articles))    "
   ]
  },
  {
   "cell_type": "code",
   "execution_count": 72,
   "metadata": {},
   "outputs": [],
   "source": [
    "# A class to encapsulate an article\n",
    "# It uses the url to fetch the article content and extract named entities from it\n",
    "\n",
    "goose = Goose()\n",
    "\n",
    "class Article:\n",
    "    def __init__(self, url, title, description):\n",
    "        self.id = uuid.uuid4()\n",
    "        self.url = url\n",
    "        self.title = title\n",
    "        self.description = description\n",
    "        raw_content = goose.extract(url=url).cleaned_text\n",
    "        self.named_entities = self.extract_named_entities(raw_content)\n",
    "        \n",
    "    def extract_named_entities(self, text):\n",
    "        chunked = ne_chunk(pos_tag(word_tokenize(text)))\n",
    "        prev = None\n",
    "        continuous_chunk = []\n",
    "        current_chunk = []\n",
    "        for i in chunked:\n",
    "            if type(i) == Tree:\n",
    "                current_chunk.append(\" \".join([token for token, pos in i.leaves()]))\n",
    "            elif current_chunk:\n",
    "                named_entity = \" \".join(current_chunk)\n",
    "                if named_entity not in continuous_chunk:\n",
    "                    continuous_chunk.append(named_entity)\n",
    "                    current_chunk = []\n",
    "                else:\n",
    "                    continue\n",
    "        return continuous_chunk"
   ]
  },
  {
   "cell_type": "code",
   "execution_count": 73,
   "metadata": {},
   "outputs": [],
   "source": [
    "# Map over the raw articles from the news api and construct Article objects\n",
    "def single_core_article_builder():\n",
    "    articles = []\n",
    "\n",
    "    for a in raw_articles:\n",
    "        try:\n",
    "            articles.append(Article(a['url'], a['title'], a['description']))\n",
    "        except:\n",
    "            continue\n",
    "    return articles"
   ]
  },
  {
   "cell_type": "code",
   "execution_count": 74,
   "metadata": {},
   "outputs": [],
   "source": [
    "# Multicore article building\n",
    "def multi_core_article_builder():\n",
    "    CORES = int(os.environ['NUM_CPUS'])\n",
    "\n",
    "    def doWork(q, a):\n",
    "        results = []\n",
    "        for article in a:\n",
    "            try:\n",
    "                results.append(Article(\n",
    "                    article['url'],\n",
    "                    article['title'],\n",
    "                    article['description']\n",
    "                ))\n",
    "            except:\n",
    "                continue\n",
    "        q.put(results)\n",
    "\n",
    "    q = Queue()\n",
    "    subprocesses = []\n",
    "    for i in range(CORES):\n",
    "        start = int(i * (len(raw_articles)/CORES))\n",
    "        end = int((i + 1) * (len(raw_articles)/CORES))\n",
    "        p = Process(target=doWork, args=(q, raw_articles[start:end]))\n",
    "        p.start()\n",
    "        subprocesses.append(p)\n",
    "\n",
    "    articles = []\n",
    "    for i in range(CORES):\n",
    "        articles.extend(q.get(True))\n",
    "    while subprocesses:\n",
    "        subprocesses.pop().join()\n",
    "    return articles"
   ]
  },
  {
   "cell_type": "code",
   "execution_count": 75,
   "metadata": {},
   "outputs": [
    {
     "name": "stdout",
     "output_type": "stream",
     "text": [
      "Running on 8 cores\n",
      "Finished\n"
     ]
    }
   ],
   "source": [
    "CORES = int(os.environ['NUM_CPUS'])\n",
    "\n",
    "if CORES > 1:\n",
    "    print(f'Running on {CORES} cores')\n",
    "    articles = multi_core_article_builder()\n",
    "else:\n",
    "    print('Running on single core')\n",
    "    articles = single_core_article_builder()\n",
    "print('Finished')"
   ]
  },
  {
   "cell_type": "code",
   "execution_count": 76,
   "metadata": {},
   "outputs": [
    {
     "name": "stdout",
     "output_type": "stream",
     "text": [
      "CPU times: user 248 ms, sys: 8 ms, total: 256 ms\n",
      "Wall time: 256 ms\n",
      "(4093, 20100)\n"
     ]
    }
   ],
   "source": [
    "# Create tf_idf matrix from articles\n",
    "named_entities_list = list(map(lambda x: ' '.join(x.named_entities), articles))\n",
    "tfidf_vectorizer = TfidfVectorizer()\n",
    "%time tfidf_matrix = tfidf_vectorizer.fit_transform(named_entities_list)\n",
    "print(tfidf_matrix.shape)"
   ]
  },
  {
   "cell_type": "code",
   "execution_count": 77,
   "metadata": {},
   "outputs": [
    {
     "name": "stdout",
     "output_type": "stream",
     "text": [
      "CPU times: user 2min 11s, sys: 19.4 s, total: 2min 31s\n",
      "Wall time: 22.8 s\n"
     ]
    }
   ],
   "source": [
    "# Run k-means clustering on tf_idf matrix\n",
    "num_clusters = 7\n",
    "km = KMeans(n_clusters=num_clusters)\n",
    "%time km.fit(tfidf_matrix)\n",
    "clusters = km.labels_.tolist()"
   ]
  },
  {
   "cell_type": "code",
   "execution_count": 78,
   "metadata": {
    "scrolled": false
   },
   "outputs": [
    {
     "name": "stdout",
     "output_type": "stream",
     "text": [
      "Top terms per cluster:\n",
      "Cluster 0:\n",
      "eu hamilton red bulls home rudd windrush european uk brexit\n",
      "Cluster 1:\n",
      "amazon facebook deutsche inc schroepfer analytica cambridge microsoft bank street\n",
      "Cluster 2:\n",
      "korean kim north korea south moon jong un trump pyongyang\n",
      "Cluster 3:\n",
      "reuters china eikon london united new mr british england uk\n",
      "Cluster 4:\n",
      "cosby bill constand metoo mr andrea pennsylvania temple philadelphia mesereau\n",
      "Cluster 5:\n",
      "trump mr house donald white iran macron cohen jackson us\n",
      "Cluster 6:\n",
      "wembley khan fa nfl jaguars england fulham shahid jacksonville stadium\n"
     ]
    }
   ],
   "source": [
    "def print_cluster_terms():\n",
    "    print(\"Top terms per cluster:\")\n",
    "    order_centroids = km.cluster_centers_.argsort()[:, ::-1]\n",
    "    terms = tfidf_vectorizer.get_feature_names()\n",
    "    for i in range(num_clusters):\n",
    "        print(\"Cluster %d:\" % i),\n",
    "        cluster_terms = []\n",
    "        for ind in order_centroids[i, :10]:\n",
    "             cluster_terms.append(terms[ind])\n",
    "        print(' '.join(cluster_terms))\n",
    "        print\n",
    "print_cluster_terms()"
   ]
  },
  {
   "cell_type": "code",
   "execution_count": 79,
   "metadata": {},
   "outputs": [
    {
     "name": "stdout",
     "output_type": "stream",
     "text": [
      "['Kate James', 'Tom Evans', 'Alfie', 'Alfie Liverpool', 'Vatican', 'Christian', 'Alfie Tom Evans', 'Facebook', 'Tom Evans Alfie', 'Evans', 'Liverpool', 'Alder Hey Hospital', 'Alfie Alfie', 'Alfie Britain', 'Catholic', 'Pope Francis', 'Italy', 'Alfie Catholic Poland', 'Italy Britain', 'National Health Service', 'St.', 'Square', 'Warsaw', 'British', 'Alder Hey', 'Kate James Alfie']\n",
      "[3]\n"
     ]
    }
   ],
   "source": [
    "test_url = 'http://www.breitbart.com/london/2018/04/28/rest-peace-toddler-alfie-evans-passes-away/'\n",
    "test_article = Article(test_url, '', '')\n",
    "print(test_article.named_entities)\n",
    "Y = tfidf_vectorizer.transform([' '.join(test_article.named_entities)])\n",
    "prediction = km.predict(Y)\n",
    "print(prediction)"
   ]
  },
  {
   "cell_type": "code",
   "execution_count": 80,
   "metadata": {},
   "outputs": [],
   "source": [
    "clusters = km.predict(tfidf_matrix)"
   ]
  },
  {
   "cell_type": "code",
   "execution_count": 81,
   "metadata": {},
   "outputs": [],
   "source": [
    "cluster_article_map = {}\n",
    "cluster_article_title_map = {}\n",
    "for i in range(len(articles)):\n",
    "    cluster = clusters[i]\n",
    "    article = articles[i]\n",
    "    if cluster in cluster_article_map.keys():\n",
    "        cluster_article_map[cluster].append(article)\n",
    "    else:\n",
    "        cluster_article_map[cluster] = [article]\n",
    "    if cluster in cluster_article_title_map.keys():\n",
    "        cluster_article_title_map[cluster].append(article.title)\n",
    "    else:\n",
    "        cluster_article_title_map[cluster] = [article.title]"
   ]
  },
  {
   "cell_type": "code",
   "execution_count": 82,
   "metadata": {},
   "outputs": [
    {
     "data": {
      "text/plain": [
       "['Best of Late Night: Stephen Colbert Takes On Ronny Jackson Controversy',\n",
       " \"Macron's Iran plan would add elements to nuclear deal: German official\",\n",
       " \"Michael Cohen says he'll plead the Fifth Amendment in lawsuit by porn actress Stormy Daniels\",\n",
       " \"Time's Not on Their Side as GOP Gripes About Senate Slowdown - New York Times\",\n",
       " 'What to Watch as Scott Pruitt, the EPA Chief, Goes Before Congress - New York Times',\n",
       " 'The Era of Very Low Inflation and Interest Rates May Be Near an End',\n",
       " 'Germany says not making itself more dependent on Russia with new pipeline',\n",
       " 'Macron says Trump may drop Iran nuclear deal',\n",
       " \"Trump says he won't get involved in the Russia investigation but 'I may change my mind'\",\n",
       " \"Trump's White House doctor and cabinet nominee 'crashed government car while drunk', claim Democrats\",\n",
       " \"U.S. Supreme Court appears ready to uphold Trump's travel ban\",\n",
       " 'EPA chief Pruitt faces congressional grilling on spending, ethics',\n",
       " 'U.S. EPA chief Pruitt faces congressional grilling on spending, ethics',\n",
       " 'China considering cutting duty on imported cars by about half: Bloomberg',\n",
       " 'Central American caravan reaches US border...',\n",
       " 'Giuliani, in Meeting With Mueller’s Office, Is Said to Be Negotiating Trump Interview',\n",
       " 'Emmanuel Macron says he thinks Donald Trump will withdraw from Iran nuclear deal',\n",
       " 'Macron, Trump Face Off in Charm Contest',\n",
       " \"James Comey defends memo release, says Donald Trump is 'just making stuff up'\",\n",
       " 'EPA Administrator Faces Grilling on Capitol Hill',\n",
       " 'For Thousands of ‘Dreamers,’ It Has Been a Wild Ride. And It’s Not Over Yet',\n",
       " 'Oil prices rise on concerns over supply disruptions, but surging U.S. output looms',\n",
       " 'Oil prices rise on concerns over supply disruptions, but surging US output looms',\n",
       " 'Trump thanks Kanye West for Twitter compliments',\n",
       " 'News Analysis: Courts Give Trump a Possible Path Through a Legal Minefield on Immigration',\n",
       " 'With No Nomination From Trump, Judges Choose U.S. Attorney for Manhattan',\n",
       " 'HUD Floats a Plan Intended to Reduce Dependence on Housing Assistance',\n",
       " 'The Wall Street Journal: Macron would ‘bet’ Trump will withdraw from Iran nuclear deal',\n",
       " 'Trump attorney Michael Cohen to plead the Fifth in Stormy Daniels suit',\n",
       " 'Michael Cohen will plead the Fifth in Stormy Daniels case',\n",
       " \"Michael Cohen: Stormy Daniels case against Trump's lawyer put on hold\",\n",
       " \"Judge puts Stormy Daniels' lawsuit against Trump lawyer on hold\",\n",
       " '5 Takeaways From the House Report on Russian Election Meddling - New York Times',\n",
       " 'After Macron PDA, Trump greets Merkel with noticeably cooler welcome',\n",
       " 'Trump says wants \"reciprocal\" trade with Europe',\n",
       " 'North Korea, Angela Merkel, Golden State Killer: Your Evening Briefing',\n",
       " 'The Wall Street Journal: Pompeo says only a ‘substantial fix’ will preserve Iran deal',\n",
       " \"Judge puts porn star's lawsuit against Trump lawyer Cohen on hold for 90 days\",\n",
       " \"Judge puts porn star's lawsuit against Trump lawyer Cohen on hold for 90 days\",\n",
       " \"Russian lawyer from Trump Tower meeting claims to be an 'informant'\",\n",
       " 'EPA Readies Plan to Weaken Rules That Require Cars to Be Cleaner - New York Times',\n",
       " 'Trump and Merkel tried – and failed – to hide their differences in Washington',\n",
       " \"Trump 'May' Go to Opening of U.S. Embassy in Jerusalem\",\n",
       " \"Manafort's Lawsuit Taking Aim at Mueller Is Tossed Out of Court - New York Times\",\n",
       " 'Lawyer at Trump Tower meeting reportedly worked with Russian government',\n",
       " \"Brigitte Macron says Melania Trump is 'really fun' but 'can't even go outside'\",\n",
       " 'U.S. likely to back freezing fuel economy standards from 2020 through 2026: sources',\n",
       " 'Donald Trump says Germany must pay more for defence amid Nato spending tensions',\n",
       " 'Firing of House Chaplain Creates Uproar on Capitol Hill',\n",
       " \"Trump says 'Iran will not be doing nuclear weapons'\",\n",
       " \"Trump says 'Iran will not be doing nuclear weapons'\",\n",
       " \"'Let me see the legs': Trump welcomes Winter Olympians at idiosyncratic reception\",\n",
       " 'Trump visit: How previous presidents were greeted by the UK',\n",
       " 'The Iran crisis presents a bigger danger to peace than North Korea now that Trump seems determined to end the nuclear deal',\n",
       " 'House Democratic leader says House Democrats will continue Russia probe',\n",
       " 'With Little Pomp, Merkel Arrives at the White House to Meet With Trump',\n",
       " \"Judge Dismisses Manafort's Civil Case Against Mueller\",\n",
       " 'Rules Established After Deepwater Horizon Disaster Face Revisions',\n",
       " 'GOP-led House report finds no Russia collusion',\n",
       " \"President Trump Is Coming to Britain. Here's What He Can Expect. - New York Times\",\n",
       " 'Chance the Rapper clarifies tweets about Kanye and Trump',\n",
       " 'Trump praises House report on Russia',\n",
       " 'Angela Merkel meets with Trump in latest European attempt to preserve Iran nuclear agreement',\n",
       " \"Controversial GOP report: Trump campaign's WikiLeaks praise was “highly objectionable”\",\n",
       " \"Trump says will discuss Iran, trade with Germany's Merkel\",\n",
       " \"Fifa refers to integrity rules after Trump's threat over US World Cup bid\",\n",
       " 'White House Correspondents Dinners through the years: the funniest, most controversial jokes',\n",
       " \"Trump says will discuss Iran, trade with Germany's Merkel\",\n",
       " 'U.S. House approves bill to reauthorize federal aviation agency',\n",
       " 'Chance the Rapper: \"My Fault Yo\"',\n",
       " \"Brigitte Macron: Melania Trump 'can't go outside'\",\n",
       " 'White House doctor withdraws from VA nomination',\n",
       " \"Ronny Jackson: White House doctor withdraws Veterans' Affairs candidacy after 'drunk driving' allegation\",\n",
       " \"Iran won't accept any amendment to nuclear deal: senior official\",\n",
       " 'Trump says Cohen legal case has nothing to do with him: Fox',\n",
       " \"Kanye West's Twitter followers have not dropped after tweets praising Donald Trump\",\n",
       " \"Why Trump's doctor Ronny Jackson just withdrew his nomination for VA secretary\",\n",
       " \"Admiral Ronny Jackson withdraws as Donald Trump's veterans affairs nominee\",\n",
       " 'Trump says hands-off approach to Justice Dept could change: Fox News interview',\n",
       " \"'False allegations'...\",\n",
       " \"Kanye West spotted wearing his 'Make America Great Again' hat after pro-Trump tweets backlash\",\n",
       " 'White House doctor Ronny Jackson withdraws as VA secretary nominee',\n",
       " 'White House Withdraws Jackson Nomination for V.A. Chief Amid Criticism',\n",
       " 'Trump veterans nominee Ronny Jackson bows out amid allegations',\n",
       " 'White House doctor Ronny Jackson withdraws from VA nomination',\n",
       " 'Macron played nicely with Trump for three days — and got nothing',\n",
       " 'RPT-U.S. EPA chief Pruitt faces congressional grilling on spending, ethics',\n",
       " 'Ahead of Merkel trip to U.S., Germany downbeat on trade tariffs',\n",
       " \"Cohen pleads the fifth in Stormy Daniels' lawsuit\",\n",
       " 'Brent Climbs Back Toward $75 a Barrel—Energy Journal',\n",
       " 'Ahead of Merkel trip to U.S., Germany downbeat on trade tariffs',\n",
       " \"Michael Cohen: Trump's lawyer to plead Fifth Amendment in Daniels case\",\n",
       " 'Kanye West, Golden State Killer, Bill Cosby: Your Thursday Briefing',\n",
       " 'Lawyers for Trump, Cohen to return to court over seized documents',\n",
       " 'Contributing Op-Ed Writer: Ronny Jackson Shouldn’t Head the V.A. Should He Even Be Practicing Medicine?',\n",
       " 'Oil gains as concern heats up over Iran sanctions, Venezuelan output',\n",
       " 'Contributing Op-Ed Writer: Meet the New Boss. Actually Quite Different From the Old Boss.',\n",
       " 'Op-Ed Columnist: Bush 41, Trump, and American Decline',\n",
       " 'Real Time Economics: Check-In On the U.S. Economy | U.S.-China Chilling Effect | Prepare to Pay More for Your Next TV',\n",
       " \"World Cup 2026: US, Canada & Mexico make 'strong' bid - President Trump\",\n",
       " 'Donald Trump issues warning to other countries over voting against US 2026 World Cup bid',\n",
       " \"President Donald Trump 'likely' to meet Queen in UK visit\",\n",
       " 'Merkel faces tough White House trade talks as Macron a hard act to follow',\n",
       " \"No risk of NAFTA termination despite Trump's bravado: economists\",\n",
       " \"No risk of NAFTA termination despite Trump's bravado: economists\",\n",
       " \"No risk of NAFTA termination despite Trump's bravado: economists\",\n",
       " 'New Secretary of State Pompeo arrives in Brussels to meet NATO allies',\n",
       " 'New U.S. Secretary of State Pompeo arrives in Brussels to meet NATO allies',\n",
       " \"Special master appointed in Trump lawyer Michael Cohen's case\",\n",
       " 'Trump tweets threat to opponents of U.S. 2026 World Cup bid',\n",
       " 'Trump tweets threat to opponents of U.S. 2026 World Cup bid',\n",
       " \"King of the kids Trump says Jackson 'treated very, very unfairly'\",\n",
       " 'News Analysis: For Many, Life in Trump’s Orbit Ends in a Crash Landing',\n",
       " \"Merkel visits Trump - so will she envy Macron's bromance?\",\n",
       " 'Scott Pruitt, on Capitol Hill, Deflects Blame for Ethical Lapses',\n",
       " \"Last Piece of the Puzzle: Pompeo Completes Trump's New Foreign Policy Team\",\n",
       " 'Road Testing the 2019 Resistance',\n",
       " 'Europe, Trump and the Iran Deal',\n",
       " 'Merkel visits Trump without illusions, but with hope',\n",
       " 'Merkel visits Trump without illusions, but with hope',\n",
       " 'Merkel visits Trump without illusions, but with hope',\n",
       " \"Trump's On-Again, Off-Again Trip to Britain Is Set for July - New York Times\",\n",
       " 'How Trump Takes On Obstruction - Wall Street Journal',\n",
       " 'Trump’s Doctor Accused of Handing Out Ambien. D.E.A. Calls the Practice Illegal',\n",
       " 'Retired judge to review documents seized from Trump attorney Michael Cohen',\n",
       " \"Europe's Entreaties to Trump On Iran Nuclear Deal Come Up Short\",\n",
       " 'Trump’s War on the Poor',\n",
       " \"House Republican says 'open' to compromise on Dodd-Frank reforms\",\n",
       " 'Optimism growing that U.S. foreign investment bill will pass: official',\n",
       " 'Bill Cosby, Michael Cohen, Golden State Killer: Your Thursday Evening Briefing',\n",
       " 'Trump administration under fire for not contributing to Syria donors conference',\n",
       " 'Editorial: Mr. Macron Comes to Washington',\n",
       " \"US environment chief Scott Pruitt told he is 'unfit for office' during Congress hearing\",\n",
       " 'Let’s greet Trump with joy not bitterness | Letters',\n",
       " \"Trump-Russia investigation: House intelligence committee finds 'no evidence' of collusion in final report\",\n",
       " 'In Kanye West, the Right Sees Truth-Telling and a Rare A-List Ally - New York Times',\n",
       " 'Trump voters were motivated by fear of losing their status',\n",
       " 'Macron went mano a mano with Trump but has little to show for it',\n",
       " 'Republican-led House panel says no evidence Trump colluded with Russia',\n",
       " \"Chance the Rapper apologises for supporting Kanye West's comments about Donald Trump\",\n",
       " \"Merkel holds 'working visit' with Trump at the White House\",\n",
       " 'Brexit & Beyond: Merkel, in Washington, Hopes to Dodge Trade Conflict',\n",
       " \"When Donald Trump comes to the UK, we should do the one thing he'll find the cruellest\",\n",
       " 'GOP-led House panel officially clears Trump in Russia probe...',\n",
       " 'GOP-Led House Panel Clears Trump, His Aides in Russia Probe',\n",
       " 'Trump can come. But let him know Britain won’t stand for his bigotry | Owen Jones',\n",
       " 'What happens if Donald Trump walks away from the Iran nuclear deal?',\n",
       " 'Kim Meets Moon for Korea Summit',\n",
       " \"Donald Trump says Kanye West is performing 'great service' to black community in tweet\",\n",
       " 'House Intelligence Committee Releases Findings on Russian Election Interference',\n",
       " 'Russia engaged in information war against West - U.S. House intel report',\n",
       " 'Russia engaged in information war against West: U.S. House intel report',\n",
       " \"Colbert to Trump on Russia inquiry: 'That's not a cloud. That's your hair'\",\n",
       " \"US economy slowed in first quarter after Trump's $1.5tn tax cuts\",\n",
       " 'Op-Ed Columnist: The Obstinacy of Mitch McConnell',\n",
       " 'A predictable defeat for Spurs, but the Maybot is pitch perfect | John Crace',\n",
       " 'Trump may have screwed up the U.S.’s bid for the 2026 World Cup',\n",
       " \"Morning mail: China's 'psychological warfare', Bill Cosby guilty, Trump to visit UK\",\n",
       " 'Trump tariffs cause headaches for S&P 500 manufacturers',\n",
       " 'Parents Sue North Korea Over College Student’s Death After Time in Prison',\n",
       " 'F.B.I. Letter Casts Further Doubt on White House’s Rob Porter Timeline',\n",
       " 'Donald Trump perfects the art of the self-contradictory interview | Richard Wolffe',\n",
       " 'Optimism growing that U.S. foreign investment bill will pass -official',\n",
       " 'Senate confirms ambassador to Germany',\n",
       " 'Asia and Australia Edition: North Korea, Narendra Modi, Bill Cosby: Your Friday Briefing',\n",
       " 'After Arduous Journey, Migrants See Stubborn Obstacle: Trump - New York Times',\n",
       " 'Letter: Shut Out From the Trump-Macron State Dinner',\n",
       " \"Judge appoints 'special master' to review seized Trump lawyer documents\",\n",
       " \"Trump: Cohen handled 'crazy' Stormy Daniels deal\",\n",
       " \"'If I were the president, I'd get rid of you': Scott Pruitt lacerated at ethics hearing\",\n",
       " 'How Trump\\'s morning rant to \"Fox and Friends\" messed with the Michael Cohen case',\n",
       " 'Former Judge Chosen to Review Materials Seized From Michael Cohen',\n",
       " \"'Boss, I Miss You So Much': The Awkward Exile of Michael Cohen\",\n",
       " \"Trump's first UK trip to come in July, with caveats\",\n",
       " \"King of the kids Trump says Jackson 'treated very, very unfairly'\",\n",
       " 'Fact-Checking Trump’s ‘Fox & Friends’ Interview',\n",
       " \"U.S. Attorney General Sessions says Mueller probe has taken on 'life of its own'\",\n",
       " \"U.S. Attorney General Sessions says Mueller probe has taken on 'life of its own'\",\n",
       " 'Trump ❤️ Macron: their 10 most awkward hand-holding moments',\n",
       " 'Hopes for U.S. Tariff Exemptions Fade in Europe',\n",
       " \"U.S. judge rules 'special master' to review seized Trump lawyer documents\",\n",
       " \"US Senate confirms CIA director Mike Pompeo as Trump's secretary of state\",\n",
       " 'EX-CIA chief Mike Pompeo confirmed as secretary of state',\n",
       " 'Mike Pompeo Confirmed as Secretary of State',\n",
       " 'Pompeo becomes U.S. secretary of state as Iran, North Korea issues await',\n",
       " 'U.S. Senate confirms Pompeo as secretary of state',\n",
       " 'UPDATE 3-U.S. EPA chief Pruitt tells lawmakers ethics charges are distractions, lies',\n",
       " 'Mike Pompeo, Confirmed as Secretary of State, Plans to Quickly Head to Europe - New York Times',\n",
       " 'Donald Trump blocks release of some JFK assassination files',\n",
       " 'Letters: Exit Dr. Jackson: Trump’s Vetting Process (if Any) Isn’t Working',\n",
       " 'Trump lets off steam in TV interview',\n",
       " 'In Warning to Trump, Senators Advance Bill to Protect Mueller',\n",
       " 'Cohen returns to court over seized documents',\n",
       " 'Senate advances legislation to protect Robert Mueller from being fired',\n",
       " 'Amber Rudd is the best person to rectify the mistakes of the Windrush scandal – and if she does well, she could be prime minister',\n",
       " 'Op-Ed Columnist: The White Rebellion',\n",
       " 'Donald Trump UK visit: Sun will be blocked in the sky by partial eclipse when president arrives on Friday 13th',\n",
       " \"Trump says Comey is 'either very sick or very dumb' as memo row continues\",\n",
       " 'Leaders of the two Koreas pledge an end to war',\n",
       " 'An impossible dream? Democrats try to connect with Trump voters',\n",
       " \"Britons are planning to make Trump's visit to London very unpleasant\",\n",
       " 'Tester Lands in Trump’s Crosshairs',\n",
       " 'An impossible dream? Democrats try to connect with Trump voters',\n",
       " 'Trump Moves Closer to Abandoning Iran Nuclear Deal—Energy Journal',\n",
       " \"'Remember sailor': Donald Trump tweets bizarre message to James Comey\",\n",
       " 'Hours into the job, Pompeo in Brussels for show of support for NATO - Reuters',\n",
       " 'States That Raise Tolls and Taxes Will Have an Edge in Getting DOT Funds',\n",
       " \"Michael Cohen: 16 mobile phones seized in FBI raid of Trump lawyer's home, office and hotel room\",\n",
       " 'Mike Pompeo, Wasting No Time, Meets With NATO',\n",
       " 'Will the Iran nuclear deal survive Trump’s wrecking crew?',\n",
       " 'Real Time Economics: Merkel’s Last-Ditch Pitch to Trump | Europe’s Economic Soft Patch | U.S. Homeownership Rebounding',\n",
       " 'North Korea, Bill Cosby, ‘Avengers: Infinity War’: Your Friday Briefing',\n",
       " 'Op-Ed Contributor: Don’t Delete Kanye',\n",
       " 'Contributing Op-Ed Writer: To Beat Trump, Build a Better Biden',\n",
       " 'Op-Ed Columnist: The World Owes One to France, Big Time',\n",
       " 'Five times Kanye West took us by surprise',\n",
       " 'Op-Ed Contributor: Mick Mulvaney’s Handy Guide to Exploiting the Trump Swamp',\n",
       " 'Pompeo Begins First Official Foreign Trip Amid Uncertainty Over Iran Deal',\n",
       " 'Donald Trump issues warning to any allied country who votes against USA 2026 World Cup bid',\n",
       " \"News Quiz: Test Your Knowledge of the Week's Headlines - New York Times\",\n",
       " 'Trump UK visit: US President will not avoid London despite promise of huge protests, US ambassador says',\n",
       " \"'Thick-skinned' Donald Trump not bothered by protests and 'definitely' coming to London, says US Ambassador\",\n",
       " 'Senators approve measure to stop Trump firing Special Counsel Robert Mueller',\n",
       " 'Donald Trump to visit UK on Friday 13 July',\n",
       " 'The Ronny Jackson car crash',\n",
       " 'Donald Trump to visit UK on Friday 13 July',\n",
       " 'Trump to visit Britain in July: White House',\n",
       " 'Trump to visit Britain in July - White House',\n",
       " 'Trump to visit UK in July',\n",
       " \"Trump claims he made Iranians stop chanting 'Death to America'\",\n",
       " 'World Snooker Championship 2018: Anthony McGill beats Ryan Day in round one',\n",
       " \"'I may get in trouble' - Donald Trump says he was 'too busy' to buy wife Melania a birthday present\",\n",
       " '6 takeaways from Trump\\'s wild \"Fox and Friends\" call on Melania\\'s birthday',\n",
       " 'Pruitt Says Attacks Are Driven by Opposition to Trump',\n",
       " 'German army chief warns over defence spending ahead of Trump-Merkel meeting',\n",
       " \"Stephen Colbert on Kanye and Trump: 'Yeezy & Sleazy'\",\n",
       " 'A new NAFTA may be agreed on soon',\n",
       " 'Donald Trump is sending shockwaves through global commodities markets',\n",
       " 'Marco Rubio offers his Trump-crazed party a glint of hope',\n",
       " 'The unusual process for staffing the White House',\n",
       " 'Gina Haspel must give answers before becoming the CIA boss',\n",
       " 'The Supreme Court seems inclined to uphold the president’s travel ban',\n",
       " \"Brigitte Macron on life at the top as France's first lady\",\n",
       " 'Trump Says Cohen’s Legal Troubles Do Not Involve Him',\n",
       " \"Trump confirms Michael Cohen represented him during 'crazy Stormy Daniels deal'\",\n",
       " \"I'm with Kim Kardashian – stop speculating about Kanye's mental health just because he likes Trump\",\n",
       " 'Merkel Is Next to Visit Trump, Skipping the Bonhomie',\n",
       " \"Even Celebrities Have Had Enough of Kanye's Shit\",\n",
       " \"Donald Trump Says He Won't Meddle With Russia Probe, but Could Change His Mind - Wall Street Journal\",\n",
       " 'It may surprise liberal Hollywood, but Trump and Kanye have more in common than you think',\n",
       " 'Donald Trump admits Michael Cohen was his lawyer in Stormy Daniels case']"
      ]
     },
     "execution_count": 82,
     "metadata": {},
     "output_type": "execute_result"
    }
   ],
   "source": [
    "cluster_article_title_map[5]"
   ]
  },
  {
   "cell_type": "code",
   "execution_count": 83,
   "metadata": {
    "scrolled": true
   },
   "outputs": [
    {
     "data": {
      "image/png": "[encoded data removed]",
      "text/plain": [
       "<matplotlib.figure.Figure at 0x7efc2f6d3860>"
      ]
     },
     "metadata": {},
     "output_type": "display_data"
    }
   ],
   "source": [
    "plt.hist(km.labels_, bins=num_clusters)\n",
    "plt.show()"
   ]
  },
  {
   "cell_type": "code",
   "execution_count": 84,
   "metadata": {},
   "outputs": [
    {
     "name": "stdout",
     "output_type": "stream",
     "text": [
      "\n",
      "\n"
     ]
    }
   ],
   "source": [
    "\n",
    "import os  # for os.path.basename\n",
    "\n",
    "import matplotlib.pyplot as plt\n",
    "import matplotlib as mpl\n",
    "\n",
    "from sklearn.manifold import MDS\n",
    "from sklearn.metrics.pairwise import cosine_similarity\n",
    "\n",
    "dist = 1 - cosine_similarity(tfidf_matrix)\n",
    "\n",
    "MDS()\n",
    "\n",
    "# convert two components as we're plotting points in a two-dimensional plane\n",
    "# \"precomputed\" because we provide a distance matrix\n",
    "# we will also specify `random_state` so the plot is reproducible.\n",
    "mds = MDS(n_components=2, dissimilarity=\"precomputed\", random_state=1)\n",
    "\n",
    "pos = mds.fit_transform(dist)  # shape (n_components, n_samples)\n",
    "\n",
    "xs, ys = pos[:, 0], pos[:, 1]\n",
    "print()\n",
    "print()\n",
    "\n",
    "titles = list(map(lambda x: x.title, articles))\n",
    "df = pd.DataFrame(dict(x=xs, y=ys, label=clusters, title=titles)) "
   ]
  },
  {
   "cell_type": "code",
   "execution_count": 92,
   "metadata": {},
   "outputs": [],
   "source": [
    "#set up colors per clusters using a dict\n",
    "cluster_colors = {\n",
    "    0: '#FFE981',\n",
    "    1: '#BEEB9F',\n",
    "    2: '#BBDED6',\n",
    "    3: '#ffffff',\n",
    "    4: '#F8B595',\n",
    "    5: '#F67280',\n",
    "    6: '#C06C84',\n",
    "    7: '#6C5B7C',\n",
    "    8: '#FFB6B9',\n",
    "    9: '#FF9797',\n",
    "}\n",
    "\n",
    "#set up cluster names using a dict\n",
    "cluster_names = {\n",
    "    0: 'A', \n",
    "    1: 'B', \n",
    "    2: 'C', \n",
    "    3: 'D', \n",
    "    4: 'E',\n",
    "    5: 'F',\n",
    "    6: 'G',\n",
    "    7: 'H',\n",
    "    8: 'I',\n",
    "    9: 'J',\n",
    "}"
   ]
  },
  {
   "cell_type": "code",
   "execution_count": 93,
   "metadata": {
    "scrolled": true
   },
   "outputs": [
    {
     "data": {
      "image/png": "[encoded data removed]",
      "text/plain": [
       "<matplotlib.figure.Figure at 0x7efc2efb3cf8>"
      ]
     },
     "metadata": {},
     "output_type": "display_data"
    }
   ],
   "source": [
    "%matplotlib inline \n",
    "#group by cluster\n",
    "groups = df.groupby('label')\n",
    "\n",
    "\n",
    "# set up plot\n",
    "fig, ax = plt.subplots(figsize=(17, 9)) # set size\n",
    "ax.margins(0.05) # Optional, just adds 5% padding to the autoscaling\n",
    "\n",
    "#iterate through groups to layer the plot\n",
    "#note that I use the cluster_name and cluster_color dicts with the 'name' lookup to return the appropriate color/label\n",
    "for name, group in groups:\n",
    "    ax.plot(\n",
    "        group.x,\n",
    "        group.y,\n",
    "        marker='o',\n",
    "        linestyle='',\n",
    "        ms=12, \n",
    "        label=cluster_names[name],\n",
    "        color=cluster_colors[name], \n",
    "        mec='none'\n",
    "    )\n",
    "    ax.set_aspect('auto')\n",
    "    ax.tick_params(\n",
    "        axis= 'x',          # changes apply to the x-axis\n",
    "        which='both',      # both major and minor ticks are affected\n",
    "        bottom='off',      # ticks along the bottom edge are off\n",
    "        top='off',         # ticks along the top edge are off\n",
    "        labelbottom='off')\n",
    "    ax.tick_params(\n",
    "        axis= 'y',         # changes apply to the y-axis\n",
    "        which='both',      # both major and minor ticks are affected\n",
    "        left='off',      # ticks along the bottom edge are off\n",
    "        top='off',         # ticks along the top edge are off\n",
    "        labelleft='off')\n",
    "    \n",
    "ax.legend(numpoints=1)  #show legend with only 1 point\n",
    "\n",
    "#add label in x,y position with the label as the film title\n",
    "#for i in range(len(df)):\n",
    "#    ax.text(df.iloc[i]['x'], df.iloc[i]['y'], df.iloc[i]['title'], size=8)  \n",
    "\n",
    "    \n",
    "    \n",
    "plt.show() #show the plot"
   ]
  },
  {
   "cell_type": "code",
   "execution_count": 87,
   "metadata": {},
   "outputs": [
    {
     "name": "stdout",
     "output_type": "stream",
     "text": [
      "Top terms per cluster:\n",
      "Cluster 0:\n",
      "eu hamilton red bulls home rudd windrush european uk brexit\n",
      "Cluster 1:\n",
      "amazon facebook deutsche inc schroepfer analytica cambridge microsoft bank street\n",
      "Cluster 2:\n",
      "korean kim north korea south moon jong un trump pyongyang\n",
      "Cluster 3:\n",
      "reuters china eikon london united new mr british england uk\n",
      "Cluster 4:\n",
      "cosby bill constand metoo mr andrea pennsylvania temple philadelphia mesereau\n",
      "Cluster 5:\n",
      "trump mr house donald white iran macron cohen jackson us\n",
      "Cluster 6:\n",
      "wembley khan fa nfl jaguars england fulham shahid jacksonville stadium\n"
     ]
    }
   ],
   "source": [
    "print_cluster_terms()"
   ]
  },
  {
   "cell_type": "code",
   "execution_count": null,
   "metadata": {},
   "outputs": [],
   "source": []
  }
 ],
 "metadata": {
  "kernelspec": {
   "display_name": "Python [conda env:Python3]",
   "language": "python",
   "name": "conda-env-Python3-py"
  },
  "language_info": {
   "codemirror_mode": {
    "name": "ipython",
    "version": 3
   },
   "file_extension": ".py",
   "mimetype": "text/x-python",
   "name": "python",
   "nbconvert_exporter": "python",
   "pygments_lexer": "ipython3",
   "version": "3.6.4"
  }
 },
 "nbformat": 4,
 "nbformat_minor": 2
}
