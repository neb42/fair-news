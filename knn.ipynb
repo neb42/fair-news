{
 "cells": [
  {
   "cell_type": "code",
   "execution_count": 1,
   "metadata": {},
   "outputs": [],
   "source": [
    "%load_ext autoreload\n",
    "%autoreload 2"
   ]
  },
  {
   "cell_type": "code",
   "execution_count": 2,
   "metadata": {},
   "outputs": [],
   "source": [
    "import os\n",
    "import sys\n",
    "module_path = os.path.abspath(os.path.join('.'))\n",
    "if module_path not in sys.path:\n",
    "    sys.path.append(module_path)"
   ]
  },
  {
   "cell_type": "code",
   "execution_count": 3,
   "metadata": {},
   "outputs": [],
   "source": [
    "from_date = '2018-08-14T00:00:00'\n",
    "to_date = '2018-08-15T00:00:00'"
   ]
  },
  {
   "cell_type": "code",
   "execution_count": 4,
   "metadata": {},
   "outputs": [],
   "source": [
    "import pandas as pd\n",
    "from datetime import datetime\n",
    "from sklearn.neighbors import NearestNeighbors\n",
    "from sklearn.feature_extraction.text import TfidfVectorizer\n",
    "\n",
    "from models.article import Article"
   ]
  },
  {
   "cell_type": "code",
   "execution_count": 5,
   "metadata": {},
   "outputs": [
    {
     "name": "stdout",
     "output_type": "stream",
     "text": [
      "SELECT * FROM articles WHERE published_at >= '2018-08-14T00:00:00' AND published_at < '2018-08-15T00:00:00'\n"
     ]
    },
    {
     "data": {
      "text/plain": [
       "1864"
      ]
     },
     "execution_count": 5,
     "metadata": {},
     "output_type": "execute_result"
    }
   ],
   "source": [
    "articles = Article.load_articles_from_db(from_date, to_date)\n",
    "len(articles)"
   ]
  },
  {
   "cell_type": "code",
   "execution_count": 6,
   "metadata": {},
   "outputs": [
    {
     "name": "stdout",
     "output_type": "stream",
     "text": [
      "   distance  \\\n",
      "0  0.728980   \n",
      "1  0.861310   \n",
      "2  0.864373   \n",
      "3  0.867383   \n",
      "4  0.905327   \n",
      "5  0.925451   \n",
      "6  0.925451   \n",
      "7  0.925451   \n",
      "\n",
      "                                                                   titles  \\\n",
      "0  The Latest: Vehicles involved in highway collapse in Italy               \n",
      "1  Motorway bridge collapses in Italy                                       \n",
      "2  Italian motorway bridge collapses near Genoa                             \n",
      "3  Reports: Raised highway collapses in Italian city of Genoa               \n",
      "4  Genoa bridge collapse: What might be responsible?                        \n",
      "5  Italy motorway bridge collapses near Genoa, so far no victims reported   \n",
      "6  Italy motorway bridge collapses near Genoa, so far no victims reported   \n",
      "7  Italy motorway bridge collapses over Genoa, \"dozens\" feared dead         \n",
      "\n",
      "                                                                                                                                                                                                                                                                                                                                                                                                                                                                                                                                                                                                                                                                                                                                                                                                                                                                                                                                                                                                                                                                                            named_entities  \\\n",
      "0  [MILAN, AP, Latest, Italy, Italy Genoa, Giuseppe Conte, RAI, Conte, Italy Italian, Genoa, Italian, Italy CNR, Italy Genoa CNR, CNR, Cuneo, Lecco, Italy Genoa Luigi D\"Angelo, San Martino, Genoa Angelo Gratarola, Sky TG24, Italy Genoa Danilo Toninelli, Toninelli, Toninelli Italy, Italian Genoa, Genoa Marco Bucci, Sky TG24 Morandi Bridge, Italy France, Genoa Genoa, Liguria, France, Italian Genoa Ian Firth, Structural Engineers, Firth, Venezuela, Riccardo Morandi, Italy Angelo Borrelli, Genoa Borrelli, Rome, Borrelli, Borelli, Italy Edoardo Rixi, Rixi, Sky, Rixi Europe, Genoa French, Emmanuel Macron, Italy Italian Genoa, Macron, France Italian, Giuseppe Conte French, Italian Macron, Italian France, Italy Italy, France Italian ANSA, Interior Ministry, Genoa ANSA, Interior Ministry Italian, Amalia Tedeschi, RAI Tedeschi, Tedeschi, Italian ANSA, Genoa ANSA Italian, Maria Luisa Catalano, Genoa Matteo Salvini, Genoa Lombardy, Piedmont, Liguria France, Italian Genoa Sky TG24, Morandi Bridge, Associated, Twitter, ANSA, Video, Italian ANSA Genoa, ANSA Images]   \n",
      "1  [Italian, Genoa, Searches, Italy, Ansa, Matteo Salvini, Italian Italy, Autostrade, Reuters, Atlantia, Autostrade Pietro M, Ansa Traffic, Liguria, Giovanni Toti, Ansa Angelo Borrelli, Alessandra Bucci, Reuters Patrick Villardry, French, Nice, AFP, Morandi Bridge, A10, Italian Riviera, France, Genoa Morandi, Italian Borrelli, Rixi, Reuters Stefano Marigliani, Autostrade Genoa, Reuters Genoa University, Antonio Brencich, Italian Riccardo Morandi, Brencich, Italy Organisation, Economic, Spain, Germany, France UK, How, French Emmanuel Macron, Italy Italian, French France, European Commission, Italian BBC, MMS]                                                                                                                                                                                                                                                                                                                                                                                                                                                                      \n",
      "2  [Italy, Italian Transport, Danilo Toninelli, Morandi Bridge, Genoa, Italian, ANSA, Genoa A10, Matteo Salvini, Salvini, Sicily, Giuseppe Conte, Italian Genoa, Elisabetta Trenta, Autostrada, Italian Genoa Ventimiglia, European, Portugal, Turkey, Italy France]                                                                                                                                                                                                                                                                                                                                                                                                                                                                                                                                                                                                                                                                                                                                                                                                                                         \n",
      "3  [MILAN, AP, Italian, Genoa, Morandi Bridge, Italian ANSA, Italy, Angelo Borrelli, Italy ANSA, God, God Giuseppe Conte, Conte, RAI, Conte Borrelli, Rome, Italy France, Milan, Liguria, Morandi Bridge A10, French Riviera, Milan Borrelli, Italian Ferragosto, Assumption, Italians, Genoa Antonio Brencich, University, Genoa Sooner, Italian CNR, Italy Ian Firth, Structural Engineers, Mehdi Kashani, University Southampton, Danilo Toninelli, Toninelli, Italy Toninelli, Italy Italian, Bologna, Danica Kirka, London, Simone Somekh]                                                                                                                                                                                                                                                                                                                                                                                                                                                                                                                                                              \n",
      "4  [Morandi, Italian, Genoa, Ian Firth, Structural Engineers, BBC News, Genoa Antonio Brenchic, Genoa University, Italian Sooner, Brencich, Riccardo Morandi, Morandi Lake Maracaibo, Venezuela, Ian Firth A10, Italian Riviera, Italy, France, Italian Autostrade, Italian Ansa, Europe]                                                                                                                                                                                                                                                                                                                                                                                                                                                                                                                                                                                                                                                                                                                                                                                                                    \n",
      "5  [GENOA, Italy, Reuters, Italian, Genoa, Giuseppe Conte, Genoa Italy, ANSA, Bruno Frattasi, RAI, Alessandra Bucci, Italy EU, Italian Deputy, Matteo Salvini, League, Salvini, Morandi Bridge, A10, Brooklyn Bridge, Motorist Alessandro Megna, RAI Luigi D, Ansa, Genoa Edoardo Rixi, Danilo Toninelli, Italian Salvini, Atlantia, Benetton, Stefano Marigliani, Autostrade, Genoa Autostrade, Antonio Brencich, University, Genoa Brencich, Italian Riviera, France, Autostrade European Commission, EU, Genoa Claudio Borghi, League Conte, Genoa Elisabetta Trenta]                                                                                                                                                                                                                                                                                                                                                                                                                                                                                                                                     \n",
      "6  [GENOA, Italy, Reuters, Italian, Genoa, Giuseppe Conte, Genoa Italy, ANSA, Bruno Frattasi, RAI, Alessandra Bucci, Italy EU, Italian Deputy, Matteo Salvini, League, Salvini, Morandi Bridge, A10, Brooklyn Bridge, Motorist Alessandro Megna, RAI Luigi D, Ansa, Genoa Edoardo Rixi, Danilo Toninelli, Italian Salvini, Atlantia, Benetton, Stefano Marigliani, Autostrade, Genoa Autostrade, Antonio Brencich, University, Genoa Brencich, Italian Riviera, France, Autostrade European Commission, EU, Genoa Claudio Borghi, League Conte, Genoa Elisabetta Trenta]                                                                                                                                                                                                                                                                                                                                                                                                                                                                                                                                     \n",
      "7  [GENOA, Italy, Reuters, Italian, Genoa, Giuseppe Conte, Genoa Italy, ANSA, Bruno Frattasi, RAI, Alessandra Bucci, Italy EU, Italian Deputy, Matteo Salvini, League, Salvini, Morandi Bridge, A10, Brooklyn Bridge, Motorist Alessandro Megna, RAI Luigi D, Ansa, Genoa Edoardo Rixi, Danilo Toninelli, Italian Salvini, Atlantia, Benetton, Stefano Marigliani, Autostrade, Genoa Autostrade, Antonio Brencich, University, Genoa Brencich, Italian Riviera, France, Autostrade European Commission, EU, Genoa Claudio Borghi, League Conte, Genoa Elisabetta Trenta]                                                                                                                                                                                                                                                                                                                                                                                                                                                                                                                                     \n",
      "\n",
      "                                                                                                                                              url  \n",
      "0  https://apnews.com/6d94d7275d9b4630b8b9a0e1d67ba6e1                                                                                             \n",
      "1  https://www.bbc.co.uk/news/world-europe-45183624                                                                                                \n",
      "2  https://www.independent.co.uk/news/world/europe/genoa-bridge-collapse-italy-motorway-a10-toll-victims-a8490941.html                             \n",
      "3  https://apnews.com/011a01863fcd4ba194e7871d1c536a03                                                                                             \n",
      "4  https://www.bbc.co.uk/news/world-europe-45188668                                                                                                \n",
      "5  https://af.reuters.com/article/worldNews/idAFKBN1KZ14C                                                                                          \n",
      "6  https://www.reuters.com/article/us-italy-motorway-collapse/italy-motorway-bridge-collapses-near-genoa-so-far-no-victims-reported-idUSKBN1KZ14G  \n",
      "7  https://ca.reuters.com/article/topNews/idCAKBN1KZ14G-OCATP                                                                                      \n"
     ]
    }
   ],
   "source": [
    "# Create tf_idf matrix from articles\n",
    "test_url = 'http://www.dailymail.co.uk/news/article-6058937/Huge-section-highway-bridge-collapses-Genoa.html'\n",
    "test_article = Article(test_url, '', '', '', datetime.now())\n",
    "\n",
    "\n",
    "# List of named entities\n",
    "named_entities_list = list(map(lambda x: ' '.join(x.named_entities), articles))\n",
    "named_entities_list.append(' '.join(test_article.named_entities))\n",
    "\n",
    "# TF-IDF matrix\n",
    "tfidf_vectorizer = TfidfVectorizer()\n",
    "tfidf_matrix = tfidf_vectorizer.fit_transform(named_entities_list)\n",
    "\n",
    "# Fit KNN\n",
    "nbrs = NearestNeighbors(n_neighbors=9) \n",
    "nbrs.fit(tfidf_matrix)\n",
    "\n",
    "# Predict\n",
    "test_row = tfidf_matrix.getrow(len(named_entities_list) - 1)\n",
    "distances, indices = nbrs.kneighbors(test_row)\n",
    "\n",
    "# Format predictions\n",
    "similar_articles = []\n",
    "for idx in indices.flatten()[1:]:\n",
    "    similar_articles.append(articles[idx])\n",
    "    \n",
    "df = pd.DataFrame({\n",
    "    'distance': distances.flatten()[1:],\n",
    "    'titles': list(map(lambda x: x.title, similar_articles)),\n",
    "    'named_entities': list(map(lambda x: x.named_entities, similar_articles)),\n",
    "    'url': list(map(lambda x: x.url, similar_articles)),\n",
    "\n",
    "})\n",
    "pd.set_option('display.max_colwidth', -1)\n",
    "print(df)"
   ]
  },
  {
   "cell_type": "code",
   "execution_count": null,
   "metadata": {},
   "outputs": [],
   "source": []
  }
 ],
 "metadata": {
  "kernelspec": {
   "display_name": "Python [conda env:Python3]",
   "language": "python",
   "name": "conda-env-Python3-py"
  },
  "language_info": {
   "codemirror_mode": {
    "name": "ipython",
    "version": 3
   },
   "file_extension": ".py",
   "mimetype": "text/x-python",
   "name": "python",
   "nbconvert_exporter": "python",
   "pygments_lexer": "ipython3",
   "version": "3.6.5"
  }
 },
 "nbformat": 4,
 "nbformat_minor": 2
}
