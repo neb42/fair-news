{
 "cells": [
  {
   "cell_type": "code",
   "execution_count": 1,
   "metadata": {},
   "outputs": [],
   "source": [
    "%load_ext autoreload\n",
    "%autoreload 2"
   ]
  },
  {
   "cell_type": "code",
   "execution_count": 2,
   "metadata": {},
   "outputs": [],
   "source": [
    "import os\n",
    "import sys\n",
    "module_path = os.path.abspath(os.path.join('.'))\n",
    "if module_path not in sys.path:\n",
    "    sys.path.append(module_path)"
   ]
  },
  {
   "cell_type": "code",
   "execution_count": 3,
   "metadata": {},
   "outputs": [],
   "source": [
    "from_date = '2018-08-13T00:00:00'\n",
    "to_date = '2018-08-14T00:00:00'"
   ]
  },
  {
   "cell_type": "code",
   "execution_count": 4,
   "metadata": {},
   "outputs": [
    {
     "ename": "KeyError",
     "evalue": "'DB_HOST'",
     "output_type": "error",
     "traceback": [
      "\u001b[0;31m---------------------------------------------------------------------------\u001b[0m",
      "\u001b[0;31mKeyError\u001b[0m                                  Traceback (most recent call last)",
      "\u001b[0;32m<ipython-input-4-e453e1f65af8>\u001b[0m in \u001b[0;36m<module>\u001b[0;34m()\u001b[0m\n\u001b[1;32m      4\u001b[0m \u001b[0;32mfrom\u001b[0m \u001b[0msklearn\u001b[0m\u001b[0;34m.\u001b[0m\u001b[0mfeature_extraction\u001b[0m\u001b[0;34m.\u001b[0m\u001b[0mtext\u001b[0m \u001b[0;32mimport\u001b[0m \u001b[0mTfidfVectorizer\u001b[0m\u001b[0;34m\u001b[0m\u001b[0m\n\u001b[1;32m      5\u001b[0m \u001b[0;34m\u001b[0m\u001b[0m\n\u001b[0;32m----> 6\u001b[0;31m \u001b[0;32mfrom\u001b[0m \u001b[0mmodels\u001b[0m\u001b[0;34m.\u001b[0m\u001b[0marticle\u001b[0m \u001b[0;32mimport\u001b[0m \u001b[0mArticle\u001b[0m\u001b[0;34m\u001b[0m\u001b[0m\n\u001b[0m",
      "\u001b[0;32m/project/fair-news/models/article.py\u001b[0m in \u001b[0;36m<module>\u001b[0;34m()\u001b[0m\n\u001b[1;32m      9\u001b[0m \u001b[0;32mimport\u001b[0m \u001b[0mpsycopg2\u001b[0m\u001b[0;34m.\u001b[0m\u001b[0mextras\u001b[0m\u001b[0;34m\u001b[0m\u001b[0m\n\u001b[1;32m     10\u001b[0m \u001b[0;34m\u001b[0m\u001b[0m\n\u001b[0;32m---> 11\u001b[0;31m \u001b[0;32mfrom\u001b[0m \u001b[0mdatabase\u001b[0m\u001b[0;34m.\u001b[0m\u001b[0mconnect\u001b[0m \u001b[0;32mimport\u001b[0m \u001b[0mconnect\u001b[0m\u001b[0;34m\u001b[0m\u001b[0m\n\u001b[0m\u001b[1;32m     12\u001b[0m \u001b[0;34m\u001b[0m\u001b[0m\n\u001b[1;32m     13\u001b[0m \u001b[0mCORES\u001b[0m \u001b[0;34m=\u001b[0m \u001b[0mint\u001b[0m\u001b[0;34m(\u001b[0m\u001b[0mos\u001b[0m\u001b[0;34m.\u001b[0m\u001b[0menviron\u001b[0m\u001b[0;34m[\u001b[0m\u001b[0;34m'NUM_CPUS'\u001b[0m\u001b[0;34m]\u001b[0m\u001b[0;34m)\u001b[0m\u001b[0;34m\u001b[0m\u001b[0m\n",
      "\u001b[0;32m/project/fair-news/database/connect.py\u001b[0m in \u001b[0;36m<module>\u001b[0;34m()\u001b[0m\n\u001b[1;32m      2\u001b[0m \u001b[0;32mimport\u001b[0m \u001b[0mpsycopg2\u001b[0m\u001b[0;34m\u001b[0m\u001b[0m\n\u001b[1;32m      3\u001b[0m \u001b[0;34m\u001b[0m\u001b[0m\n\u001b[0;32m----> 4\u001b[0;31m \u001b[0mDB_HOST\u001b[0m \u001b[0;34m=\u001b[0m \u001b[0mos\u001b[0m\u001b[0;34m.\u001b[0m\u001b[0menviron\u001b[0m\u001b[0;34m[\u001b[0m\u001b[0;34m'DB_HOST'\u001b[0m\u001b[0;34m]\u001b[0m\u001b[0;34m\u001b[0m\u001b[0m\n\u001b[0m\u001b[1;32m      5\u001b[0m \u001b[0mDB_DATABASE\u001b[0m \u001b[0;34m=\u001b[0m \u001b[0mos\u001b[0m\u001b[0;34m.\u001b[0m\u001b[0menviron\u001b[0m\u001b[0;34m[\u001b[0m\u001b[0;34m'DB_DATABASE'\u001b[0m\u001b[0;34m]\u001b[0m\u001b[0;34m\u001b[0m\u001b[0m\n\u001b[1;32m      6\u001b[0m \u001b[0mDB_USER\u001b[0m \u001b[0;34m=\u001b[0m \u001b[0mos\u001b[0m\u001b[0;34m.\u001b[0m\u001b[0menviron\u001b[0m\u001b[0;34m[\u001b[0m\u001b[0;34m'DB_USER'\u001b[0m\u001b[0;34m]\u001b[0m\u001b[0;34m\u001b[0m\u001b[0m\n",
      "\u001b[0;32m/opt/anaconda/envs/Python3/lib/python3.6/os.py\u001b[0m in \u001b[0;36m__getitem__\u001b[0;34m(self, key)\u001b[0m\n\u001b[1;32m    667\u001b[0m         \u001b[0;32mexcept\u001b[0m \u001b[0mKeyError\u001b[0m\u001b[0;34m:\u001b[0m\u001b[0;34m\u001b[0m\u001b[0m\n\u001b[1;32m    668\u001b[0m             \u001b[0;31m# raise KeyError with the original key value\u001b[0m\u001b[0;34m\u001b[0m\u001b[0;34m\u001b[0m\u001b[0m\n\u001b[0;32m--> 669\u001b[0;31m             \u001b[0;32mraise\u001b[0m \u001b[0mKeyError\u001b[0m\u001b[0;34m(\u001b[0m\u001b[0mkey\u001b[0m\u001b[0;34m)\u001b[0m \u001b[0;32mfrom\u001b[0m \u001b[0;32mNone\u001b[0m\u001b[0;34m\u001b[0m\u001b[0m\n\u001b[0m\u001b[1;32m    670\u001b[0m         \u001b[0;32mreturn\u001b[0m \u001b[0mself\u001b[0m\u001b[0;34m.\u001b[0m\u001b[0mdecodevalue\u001b[0m\u001b[0;34m(\u001b[0m\u001b[0mvalue\u001b[0m\u001b[0;34m)\u001b[0m\u001b[0;34m\u001b[0m\u001b[0m\n\u001b[1;32m    671\u001b[0m \u001b[0;34m\u001b[0m\u001b[0m\n",
      "\u001b[0;31mKeyError\u001b[0m: 'DB_HOST'"
     ]
    }
   ],
   "source": [
    "import pandas as pd\n",
    "from datetime import datetime\n",
    "from sklearn.neighbors import NearestNeighbors\n",
    "from sklearn.feature_extraction.text import TfidfVectorizer\n",
    "\n",
    "from models.article import Article"
   ]
  },
  {
   "cell_type": "code",
   "execution_count": null,
   "metadata": {},
   "outputs": [],
   "source": [
    "articles = Article.load_articles_from_db(from_date, to_date)\n",
    "len(articles)"
   ]
  },
  {
   "cell_type": "code",
   "execution_count": 50,
   "metadata": {},
   "outputs": [
    {
     "name": "stdout",
     "output_type": "stream",
     "text": [
      "   distance  \\\n",
      "0  0.852485   \n",
      "1  0.941521   \n",
      "2  0.981215   \n",
      "3  1.043238   \n",
      "4  1.089464   \n",
      "5  1.127688   \n",
      "6  1.188229   \n",
      "7  1.298551   \n",
      "\n",
      "                                                                                    titles  \\\n",
      "0  Hundreds injured at Spanish music festival as pier collapses \"after crowd told to jump\"   \n",
      "1  Hundreds injured after platform falls into sea at Vigo music festival                     \n",
      "2  Spain festival collapse in Vigo injures dozens                                            \n",
      "3  Hundreds injured as Spanish festival platform collapses into sea                          \n",
      "4  Boardwalk collapses in Spanish city during concert, 260 hurt                              \n",
      "5  Hundreds injured as festival platform collapses into sea in Vigo, northwest Spain         \n",
      "6  Platform collapses into sea at Vigo music festival in Spain – video                       \n",
      "7  Northern California man shoots, kills 3 kids and himself                                  \n",
      "\n",
      "                                                                                                                                                                                                                                                       named_entities  \\\n",
      "0  [Spain, Spanish, Vigo, Emergency, Vigo Enrique Cesar Lopez Veiga, Emergency Rels B, Majorcan, Aitana Alonso, Faro, Vigo Rels B]                                                                                                                                      \n",
      "1  [Vigo, Spain, Mallorcan, Rels B, O Marisquiño, Alicia Ulloa, Marcos Rodríguez, Abel Caballero, Enrique César López Veiga, Vigo Veiga]                                                                                                                                \n",
      "2  [Spain, Vigo, Galicia, Majorcan, Rels B, Rels B Aitana Alonso, Jesus Vazquez Almuina, Spanish, Rels B Abel Caballero, Vigo August, BBC, MMS]                                                                                                                         \n",
      "3  [MADRID, Reuters, Spain, Galicia, Vigo, Vigo Abel Caballero, Pedro Saura, RTVE]                                                                                                                                                                                      \n",
      "4  [MADRID, AP, Spanish, Vigo, Galician, Jesus Vazquez Almuina, Antena, Vigo Enrique Cesar Lopez Veiga, Cadena Ser]                                                                                                                                                     \n",
      "5  [Spain, Vigo, Abel Caballero, Spanish, Galicia, Jesus Vazquez Almuina]                                                                                                                                                                                               \n",
      "6  [Spain, Footage, El País, Vigo]                                                                                                                                                                                                                                      \n",
      "7  [SAN FRANCISCO, AP, Ricardo Garcia Lopez, Northern California, Clearlake, Lopez, Clearlake San Francisco, SUV, Clearlake Tim Hobbs, Lopez Lopez, Lopez Lake County Sheriff, Lake County Superior Court, Luanne Hayes, Hayes, Lopez Hayes, Lopez Lopez Lake County]   \n",
      "\n",
      "                                                                                                                                         url  \n",
      "0  https://www.independent.co.uk/news/world/europe/vigo-festival-pier-spain-collapse-jetty-o-marisquino-concert-a8489226.html                 \n",
      "1  https://www.theguardian.com/world/2018/aug/13/spain-vigo-music-festival-platform-collapse-hundreds-injured                                 \n",
      "2  https://www.bbc.co.uk/news/world-europe-45165660                                                                                           \n",
      "3  https://www.reuters.com/article/us-spain-accident-festival/hundreds-injured-as-spanish-festival-platform-collapses-into-sea-idUSKBN1KY0N4  \n",
      "4  https://apnews.com/38778da4fd3a4d9c80863512c5586472                                                                                        \n",
      "5  https://www.telegraph.co.uk/news/2018/08/13/hundreds-injured-festival-platform-collapses-sea-vigo-northwest/                               \n",
      "6  https://www.theguardian.com/world/video/2018/aug/13/platform-collapses-into-sea-at-vigo-music-festival-in-spain-video                      \n",
      "7  https://apnews.com/580009624d45439989237b54cee1f274                                                                                        \n"
     ]
    }
   ],
   "source": [
    "# Create tf_idf matrix from articles\n",
    "test_url = 'http://www.dailymail.co.uk/news/article-6054347/More-260-revellers-injured-Spanish-pop-festival-pier-collapses-sea.html'\n",
    "test_article = Article(test_url, '', '', '', datetime.now())\n",
    "\n",
    "\n",
    "# List of named entities\n",
    "named_entities_list = list(map(lambda x: ' '.join(x.named_entities), articles))\n",
    "named_entities_list.append(' '.join(test_article.named_entities))\n",
    "\n",
    "# TF-IDF matrix\n",
    "tfidf_vectorizer = TfidfVectorizer()\n",
    "tfidf_matrix = tfidf_vectorizer.fit_transform(named_entities_list)\n",
    "\n",
    "# Fit KNN\n",
    "nbrs = NearestNeighbors(n_neighbors=9) \n",
    "nbrs.fit(tfidf_matrix)\n",
    "\n",
    "# Predict\n",
    "test_row = tfidf_matrix.getrow(len(named_entities_list) - 1)\n",
    "distances, indices = nbrs.kneighbors(test_row)\n",
    "\n",
    "# Format predictions\n",
    "similar_articles = []\n",
    "for idx in indices.flatten()[1:]:\n",
    "    similar_articles.append(articles[idx])\n",
    "    \n",
    "df = pd.DataFrame({\n",
    "    'distance': distances.flatten()[1:],\n",
    "    'titles': list(map(lambda x: x.title, similar_articles)),\n",
    "    'named_entities': list(map(lambda x: x.named_entities, similar_articles)),\n",
    "    'url': list(map(lambda x: x.url, similar_articles)),\n",
    "\n",
    "})\n",
    "pd.set_option('display.max_colwidth', -1)\n",
    "print(df)"
   ]
  },
  {
   "cell_type": "code",
   "execution_count": null,
   "metadata": {},
   "outputs": [],
   "source": []
  }
 ],
 "metadata": {
  "kernelspec": {
   "display_name": "Python [conda env:Python3]",
   "language": "python",
   "name": "conda-env-Python3-py"
  },
  "language_info": {
   "codemirror_mode": {
    "name": "ipython",
    "version": 3
   },
   "file_extension": ".py",
   "mimetype": "text/x-python",
   "name": "python",
   "nbconvert_exporter": "python",
   "pygments_lexer": "ipython3",
   "version": "3.6.5"
  }
 },
 "nbformat": 4,
 "nbformat_minor": 2
}
