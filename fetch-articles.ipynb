{
 "cells": [
  {
   "cell_type": "code",
   "execution_count": 1,
   "metadata": {},
   "outputs": [],
   "source": [
    "%load_ext autoreload\n",
    "%autoreload 2"
   ]
  },
  {
   "cell_type": "code",
   "execution_count": 48,
   "metadata": {},
   "outputs": [],
   "source": [
    "import os\n",
    "import sys\n",
    "module_path = os.path.abspath(os.path.join('.'))\n",
    "if module_path not in sys.path:\n",
    "    sys.path.append(module_path)"
   ]
  },
  {
   "cell_type": "code",
   "execution_count": 54,
   "metadata": {},
   "outputs": [],
   "source": [
    "from_date = '2018-08-13T00:00:00'\n",
    "to_date = '2018-08-14T00:00:00'"
   ]
  },
  {
   "cell_type": "code",
   "execution_count": 55,
   "metadata": {},
   "outputs": [],
   "source": [
    "from models.article import Article\n",
    "from models.raw_article import RawArticle"
   ]
  },
  {
   "cell_type": "code",
   "execution_count": 56,
   "metadata": {},
   "outputs": [
    {
     "data": {
      "text/plain": [
       "1860"
      ]
     },
     "execution_count": 56,
     "metadata": {},
     "output_type": "execute_result"
    }
   ],
   "source": [
    "raw_articles = RawArticle.get_raw_articles(from_date, to_date)\n",
    "len(raw_articles)"
   ]
  },
  {
   "cell_type": "code",
   "execution_count": 57,
   "metadata": {
    "scrolled": true
   },
   "outputs": [
    {
     "name": "stdout",
     "output_type": "stream",
     "text": [
      "Running on 4 cores\n",
      "Error\n",
      "0\n",
      "<map object at 0x7fd9cd094cf8>\n",
      "Error\n",
      "8\n",
      "<map object at 0x7fd9875383c8>\n",
      "Error\n",
      "7\n",
      "<map object at 0x7fd9874e8fd0>\n",
      "Error\n",
      "5\n",
      "<map object at 0x7fd9cd094cf8>\n",
      "Finished\n"
     ]
    },
    {
     "data": {
      "text/plain": [
       "1840"
      ]
     },
     "execution_count": 57,
     "metadata": {},
     "output_type": "execute_result"
    }
   ],
   "source": [
    "articles = Article.build_articles(raw_articles)\n",
    "len(articles)"
   ]
  },
  {
   "cell_type": "code",
   "execution_count": 58,
   "metadata": {},
   "outputs": [
    {
     "name": "stdout",
     "output_type": "stream",
     "text": [
      "https://apnews.com/44f55f6088684dcc9d01f762073e427b\n",
      "https://www.theguardian.com/politics/commentisfree/picture/2018/aug/13/martin-rowson-on-boris-johnsons-nauseating-tea-round-cartoon\n",
      "https://www.vice.com/en_us/article/mb4k9p/new-meubles-todays-comic-by-benny-montero-comics\n",
      "https://www.bbc.co.uk/news/uk-england-kent-45172332\n",
      "https://www.bbc.co.uk/news/uk-england-merseyside-45171345\n",
      "https://www.bbc.co.uk/news/uk-england-london-45175846\n",
      "https://www.telegraph.co.uk/travel/destinations/europe/united-kingdom/scotland/articles/summer-hiking-cairngorms/\n",
      "https://www.bbc.co.uk/news/uk-england-cambridgeshire-45170273\n",
      "https://www.bbc.co.uk/news/uk-england-london-45175844\n",
      "https://www.reuters.com/article/emerging-markets-latam/emerging-markets-argentine-peso-hits-new-low-turkeys-crisis-rattles-latam-idUSL1N1V40MK\n",
      "https://apnews.com/dccb1922700044dc8a0d40d3fa3d03d7\n",
      "https://www.telegraph.co.uk/travel/lists/worlds-most-travelled-people/\n",
      "https://news.vice.com/en_us/article/594j7a/does-paul-manafort-have-one-last-ace-up-his-sleeve\n",
      "https://www.bbc.co.uk/news/uk-england-london-45174990\n",
      "https://news.vice.com/en_us/article/bjb3j5/deputy-dnc-chair-keith-ellison-denies-ugly-domestic-abuse-claim-coming-days-before-his-primary\n",
      "https://www.bbc.co.uk/news/uk-england-cambridgeshire-45170272\n",
      "https://www.bbc.co.uk/news/uk-england-kent-45172331\n",
      "https://www.telegraph.co.uk/beauty/body/best-hand-sanitisers/\n",
      "https://www.bbc.co.uk/news/uk-england-leicestershire-45169589\n",
      "https://apnews.com/29d4c68c280d4fe196b92b29e4048cfe\n",
      "https://www.bbc.co.uk/news/uk-england-northamptonshire-45172468\n",
      "https://jp.reuters.com/article/ny-stx-us-idJPL4N1V44YY\n",
      "https://www.bbc.co.uk/news/uk-england-london-45167307\n",
      "https://www.reuters.com/news/picture/editors-choice-pictures-idUSRTS1X6WR\n",
      "https://www.reuters.com/article/usa-stocks-weekahead/rpt-wall-st-week-ahead-u-s-broadcasters-in-line-for-political-ad-windfall-idUSL1N1V40CU\n",
      "https://www.bbc.co.uk/news/uk-england-beds-bucks-herts-45170815\n",
      "https://www.wsj.com/articles/how-bosses-waste-their-employees-time-1534126140\n",
      "https://apnews.com/ce2d3c855abb44c9bc4db49fc970b60e\n",
      "https://apnews.com/09941ff0b6554414aa93bed177dc4f64\n",
      "https://apnews.com/ddf61c0362974ac3aeca587c8897f458\n",
      "https://www.reuters.com/article/britain-stocks-factors/uk-stocks-factors-to-watch-on-aug-13-idUSL4N1V426U\n",
      "https://www.telegraph.co.uk/business/2018/08/13/asian-markets-tumble-turkish-lira-dives-amid-contagion-fears/\n",
      "https://www.reuters.com/article/india-morningcall/morning-news-call-india-august-13-idUSL4N1V41TT\n",
      "https://www.wsj.com/articles/what-millennials-want-in-hotel-rooms-1534125600\n",
      "https://apnews.com/4b5d939a5a044fe880b6f957096fecbf\n",
      "https://apnews.com/0ada523fe4b042dbadda086bce11bd0c\n",
      "https://apnews.com/795efe5b9e32463aa72c7dee5510a9ee\n",
      "https://apnews.com/fa81fe7ec84d4a63abf57a0ea0a91aa3\n",
      "https://apnews.com/e6bb46d55af24566a21bc1209826986b\n",
      "https://apnews.com/29df6b56b54a486295b284d489467ce0\n",
      "https://apnews.com/24df701e68ee4a28b0334aaa25bca4ca\n",
      "https://apnews.com/75f9f6c66ff94c86b99187a74c448f6f\n",
      "https://jp.reuters.com/article/%E3%82%A2%E3%82%B8%E3%82%A2%E9%80%9A%E8%B2%A8%E5%8B%95%E5%90%9113%E6%97%A5%EF%BC%9D%E4%B8%8B%E8%90%BD-%E3%82%A4%E3%83%B3%E3%83%89%E3%83%8D%E3%82%B7%E3%82%A2%E3%83%AB%E3%83%94%E3%82%A2%E3%81%AE%E4%B8%8B%E3%81%92%E3%81%8D%E3%81%A4%E3%81%84-idJPL4N1V41F8\n",
      "https://apnews.com/28ba1ecd28444729803f668f7f8ad9af\n",
      "https://apnews.com/912024e0c60f4c8a93301fe907007cda\n",
      "https://apnews.com/51ad72a9d50c4aa0bb708b433699c61f\n",
      "https://apnews.com/293118187d85c6a9989e0254556741eb\n",
      "https://apnews.com/d81e372b31bc468ea2a552a6b09ed3e3\n",
      "https://apnews.com/a951e86c3fc5476abf4f11718b6fa2d3\n",
      "https://apnews.com/0068c14cb2b44b8a9b173fca1f2cfd74\n",
      "https://apnews.com/8c45156d20714f1ea617bbeea8232e78\n",
      "https://apnews.com/babaab06e10847e88a1fbb5cf269a072\n",
      "https://apnews.com/9b410ff65c6a4c56a7cba13e691819fc\n",
      "https://apnews.com/a6acda6d5bd04999b921376b0f66b3c0\n",
      "https://apnews.com/98ef1e0840e24784888bbe816ec4b7fa\n",
      "https://www.bbc.co.uk/news/uk-england-south-yorkshire-45169410\n",
      "https://www.telegraph.co.uk/travel/destinations/caribbean/st-vincent-and-the-grenadines/articles/mustique-worlds-most-glamorous-destination/\n",
      "https://www.bbc.co.uk/news/uk-england-birmingham-45169959\n",
      "https://www.telegraph.co.uk/travel/news/turkey-currency-value-cheap-holidays/\n",
      "https://www.telegraph.co.uk/travel/advice/how-to-be-the-perfect-tourist/\n",
      "https://www.bbc.co.uk/news/av/uk-45147861/working-mums-we-re-too-tough-on-ourselves\n",
      "https://www.telegraph.co.uk/travel/terms-and-conditions/cruise-direction-terms-and-conditions/\n",
      "https://www.telegraph.co.uk/travel/destinations/europe/ireland/articles/ireland-most-idyllic-holidays/\n",
      "https://www.bbc.co.uk/news/uk-england-gloucestershire-45100817\n",
      "https://www.bbc.co.uk/news/uk-england-bristol-45169488\n",
      "https://www.reuters.com/article/britain-stocks-exdiv/ex-divs-to-take-17-points-off-ftse-100-on-aug-16-idUSL5N1V42PF\n",
      "https://www.bbc.co.uk/news/uk-england-manchester-45170127\n",
      "https://www.telegraph.co.uk/travel/cruises/articles/michelin-star-cruise-cuisine-celebrity-edge/\n",
      "https://apnews.com/f1de25d691bc43a5a2f7795a100e5f11\n",
      "https://www.nytimes.com/2018/08/13/business/behavioral-biometrics-banks-security.html\n",
      "https://www.bbc.co.uk/news/uk-england-coventry-warwickshire-45168447\n",
      "https://www.bbc.co.uk/news/uk-england-beds-bucks-herts-45167570\n"
     ]
    }
   ],
   "source": [
    "Article.bulk_insert(articles)"
   ]
  },
  {
   "cell_type": "code",
   "execution_count": null,
   "metadata": {},
   "outputs": [],
   "source": []
  }
 ],
 "metadata": {
  "kernelspec": {
   "display_name": "Python [conda env:Python3]",
   "language": "python",
   "name": "conda-env-Python3-py"
  },
  "language_info": {
   "codemirror_mode": {
    "name": "ipython",
    "version": 3
   },
   "file_extension": ".py",
   "mimetype": "text/x-python",
   "name": "python",
   "nbconvert_exporter": "python",
   "pygments_lexer": "ipython3",
   "version": "3.6.5"
  }
 },
 "nbformat": 4,
 "nbformat_minor": 2
}
