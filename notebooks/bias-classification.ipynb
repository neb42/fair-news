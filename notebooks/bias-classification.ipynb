{
 "cells": [
  {
   "cell_type": "code",
   "execution_count": null,
   "metadata": {},
   "outputs": [],
   "source": [
    "%load_ext autoreload\n",
    "%autoreload 2"
   ]
  },
  {
   "cell_type": "code",
   "execution_count": null,
   "metadata": {},
   "outputs": [],
   "source": [
    "import os\n",
    "import sys\n",
    "module_path = os.path.abspath(os.path.join('..'))\n",
    "if module_path not in sys.path:\n",
    "    sys.path.append(module_path)"
   ]
  },
  {
   "cell_type": "code",
   "execution_count": null,
   "metadata": {},
   "outputs": [],
   "source": [
    "import os\n",
    "import tempfile\n",
    "import numpy as np\n",
    "import pandas as pd\n",
    "from faculty import datasets\n",
    "\n",
    "from bias_classifier import BiasClassifier"
   ]
  },
  {
   "cell_type": "code",
   "execution_count": null,
   "metadata": {},
   "outputs": [],
   "source": [
    "file_paths = datasets.ls('/input/bias-data/')[1:]\n",
    "TMP_CSV = '/tmp/tmp.csv'\n",
    "print(file_paths)"
   ]
  },
  {
   "cell_type": "code",
   "execution_count": null,
   "metadata": {},
   "outputs": [],
   "source": [
    "if os.path.exists(TMP_CSV):\n",
    "    os.remove(TMP_CSV)\n",
    "df_list = []\n",
    "for path in file_paths:\n",
    "    datasets.get(path, TMP_CSV)\n",
    "    df_list.append(pd.read_csv(TMP_CSV, sep='\\t', encoding='utf-8'))\n",
    "    if os.path.exists(TMP_CSV):\n",
    "        os.remove(TMP_CSV)\n",
    "df = pd.concat(df_list) \\\n",
    "    .drop_duplicates(subset='article_url') \\\n",
    "    .reset_index(drop=True)\n",
    "\n",
    "df.bias = df.bias.fillna(0)\n",
    "bias = { 0: 0, 'left': 1, 'right': 2 }\n",
    "df.bias = [bias[item] for item in df.bias]\n",
    "df.shape"
   ]
  },
  {
   "cell_type": "code",
   "execution_count": null,
   "metadata": {},
   "outputs": [],
   "source": [
    "msk = np.random.rand(len(df)) < 0.8\n",
    "train = df[msk]\n",
    "test = df[~msk]\n",
    "print(len(train))\n",
    "print(len(test))\n",
    "train.to_csv('/tmp/train.csv', sep='\\t', encoding='utf-8', index=False)\n",
    "test.to_csv('/tmp/test.csv', sep='\\t', encoding='utf-8', index=False)"
   ]
  },
  {
   "cell_type": "code",
   "execution_count": null,
   "metadata": {},
   "outputs": [],
   "source": [
    "clf = BiasClassifier(\n",
    "    train_data='/tmp/train.csv',\n",
    "    dump=True,\n",
    "    debug=True\n",
    ")"
   ]
  },
  {
   "cell_type": "code",
   "execution_count": null,
   "metadata": {},
   "outputs": [],
   "source": [
    "to_classify = pd.read_csv('/tmp/test.csv', sep='\\t', encoding='utf-8')\n",
    "classified_data = clf.classify(to_classify)\n",
    "output = pd.DataFrame(classified_data)"
   ]
  },
  {
   "cell_type": "code",
   "execution_count": null,
   "metadata": {},
   "outputs": [],
   "source": [
    "output"
   ]
  },
  {
   "cell_type": "code",
   "execution_count": null,
   "metadata": {},
   "outputs": [],
   "source": [
    "correct_left = 0\n",
    "incorrect_left = 0\n",
    "count_left = 0\n",
    "correct_right = 0\n",
    "incorrect_right = 0\n",
    "count_right = 0\n",
    "\n",
    "for index, row in output[output.bias == 1].iterrows():\n",
    "    count_left += 1\n",
    "    if row.bias_prediction >= 0:\n",
    "        incorrect_left += 1\n",
    "    elif row.bias_prediction <= 0:\n",
    "        correct_left += 1\n",
    "\n",
    "for index, row in output[output.bias == 2].iterrows():\n",
    "    count_right += 1\n",
    "    if row.bias_prediction >= 0:\n",
    "        incorrect_right += 1\n",
    "    elif row.bias_prediction <= 0:\n",
    "        correct_right += 1\n",
    "        \n",
    "# for index, row in output[output.bias == 0].iterrows():\n",
    "#     print(row.bias_prediction)\n",
    "            \n",
    "precision_left = correct_left / (correct_left + incorrect_right)\n",
    "precision_right = correct_right / (correct_right + incorrect_left)\n",
    "\n",
    "recall_left = correct_left / (correct_left + incorrect_left)\n",
    "recall_right = correct_right / (correct_right + incorrect_right)\n",
    "\n",
    "print('Left')\n",
    "print('Precision: ' + str(precision_left))\n",
    "print('Recall: ' + str(recall_left))\n",
    "print('Right')\n",
    "print('Precision: ' + str(precision_right))\n",
    "print('Recall: ' + str(recall_right))"
   ]
  },
  {
   "cell_type": "code",
   "execution_count": null,
   "metadata": {},
   "outputs": [],
   "source": []
  }
 ],
 "metadata": {
  "kernelspec": {
   "display_name": "Python [conda env:Python3]",
   "language": "python",
   "name": "conda-env-Python3-py"
  },
  "language_info": {
   "codemirror_mode": {
    "name": "ipython",
    "version": 3
   },
   "file_extension": ".py",
   "mimetype": "text/x-python",
   "name": "python",
   "nbconvert_exporter": "python",
   "pygments_lexer": "ipython3",
   "version": "3.6.8"
  }
 },
 "nbformat": 4,
 "nbformat_minor": 2
}
