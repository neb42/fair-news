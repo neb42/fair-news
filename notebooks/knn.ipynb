{
 "cells": [
  {
   "cell_type": "code",
   "execution_count": null,
   "metadata": {},
   "outputs": [],
   "source": [
    "%load_ext autoreload\n",
    "%autoreload 2"
   ]
  },
  {
   "cell_type": "code",
   "execution_count": null,
   "metadata": {},
   "outputs": [],
   "source": [
    "import os\n",
    "import sys\n",
    "module_path = os.path.abspath(os.path.join('..'))\n",
    "if module_path not in sys.path:\n",
    "    sys.path.append(module_path)"
   ]
  },
  {
   "cell_type": "code",
   "execution_count": null,
   "metadata": {},
   "outputs": [],
   "source": [
    "article_date = '2018-12-21'"
   ]
  },
  {
   "cell_type": "code",
   "execution_count": null,
   "metadata": {},
   "outputs": [],
   "source": [
    "import ast\n",
    "import pandas as pd\n",
    "from datetime import datetime\n",
    "from sklearn.neighbors import NearestNeighbors\n",
    "from sklearn.feature_extraction.text import TfidfVectorizer\n",
    "from faculty import datasets\n",
    "\n",
    "from models.article import Article"
   ]
  },
  {
   "cell_type": "code",
   "execution_count": null,
   "metadata": {},
   "outputs": [],
   "source": [
    "def load_article_from_datasets(foo):\n",
    "    articles = []\n",
    "    with datasets.open(f'/input/article_content/{foo}.csv') as f:\n",
    "        df = pd.read_csv(f, sep='\\t', encoding='utf-8')\n",
    "    for row in df.iterrows():\n",
    "        try:\n",
    "            articles.append(Article(\n",
    "                row[1]['article_url'], \n",
    "                row[1]['article_title'],\n",
    "                row[1]['article_description'],\n",
    "                row[1]['source_id'],\n",
    "                row[1]['published_at'],\n",
    "                row[1]['article_uuid'],\n",
    "                ast.literal_eval(row[1]['named_entities']),\n",
    "                None,\n",
    "                row[1]['raw_content']\n",
    "            ))\n",
    "        except:\n",
    "            pass\n",
    "    return articles"
   ]
  },
  {
   "cell_type": "code",
   "execution_count": null,
   "metadata": {},
   "outputs": [],
   "source": [
    "articles = load_article_from_datasets(article_date)"
   ]
  },
  {
   "cell_type": "code",
   "execution_count": null,
   "metadata": {},
   "outputs": [],
   "source": [
    "# Create tf_idf matrix from articles\n",
    "test_url = 'https://www.bbc.co.uk/news/world-us-canada-46657393'\n",
    "test_article = Article(test_url, '', '', '', datetime.now())\n",
    "\n",
    "# List of named entities\n",
    "named_entities_list = list(map(lambda x: ' '.join(x.named_entities), articles))\n",
    "named_entities_list.append(' '.join(test_article.named_entities))\n",
    "\n",
    "# TF-IDF matrix\n",
    "tfidf_vectorizer = TfidfVectorizer()\n",
    "tfidf_matrix = tfidf_vectorizer.fit_transform(named_entities_list)\n",
    "\n",
    "# Fit KNN\n",
    "nbrs = NearestNeighbors(n_neighbors=10) \n",
    "nbrs.fit(tfidf_matrix)\n",
    "\n",
    "# Predict\n",
    "test_row = tfidf_matrix.getrow(len(named_entities_list) - 1)\n",
    "distances, indices = nbrs.kneighbors(test_row)\n",
    "\n",
    "# Format predictions\n",
    "similar_articles = []\n",
    "for idx in indices.flatten()[1:]:\n",
    "    similar_articles.append(articles[idx])\n",
    "    \n",
    "df = pd.DataFrame({\n",
    "    'distance': distances.flatten()[1:],\n",
    "    'titles': list(map(lambda x: x.title, similar_articles)),\n",
    "    'named_entities': list(map(lambda x: x.named_entities, similar_articles)),\n",
    "    'url': list(map(lambda x: x.url, similar_articles)),\n",
    "})\n",
    "pd.set_option('display.max_colwidth', -1)\n",
    "print(df)"
   ]
  },
  {
   "cell_type": "code",
   "execution_count": null,
   "metadata": {},
   "outputs": [],
   "source": []
  }
 ],
 "metadata": {
  "kernelspec": {
   "display_name": "Python [conda env:Python3]",
   "language": "python",
   "name": "conda-env-Python3-py"
  },
  "language_info": {
   "codemirror_mode": {
    "name": "ipython",
    "version": 3
   },
   "file_extension": ".py",
   "mimetype": "text/x-python",
   "name": "python",
   "nbconvert_exporter": "python",
   "pygments_lexer": "ipython3",
   "version": "3.6.8"
  }
 },
 "nbformat": 4,
 "nbformat_minor": 2
}
