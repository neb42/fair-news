{
 "cells": [
  {
   "cell_type": "code",
   "execution_count": 7,
   "metadata": {},
   "outputs": [
    {
     "name": "stdout",
     "output_type": "stream",
     "text": [
      "The autoreload extension is already loaded. To reload it, use:\n",
      "  %reload_ext autoreload\n"
     ]
    }
   ],
   "source": [
    "%load_ext autoreload\n",
    "%autoreload 2"
   ]
  },
  {
   "cell_type": "code",
   "execution_count": 4,
   "metadata": {},
   "outputs": [],
   "source": [
    "import os\n",
    "import sys\n",
    "module_path = os.path.abspath(os.path.join('..'))\n",
    "if module_path not in sys.path:\n",
    "    sys.path.append(module_path)"
   ]
  },
  {
   "cell_type": "code",
   "execution_count": 5,
   "metadata": {},
   "outputs": [],
   "source": [
    "from_date = '2018-08-14T00:00:00'\n",
    "to_date = '2018-08-15T00:00:00'"
   ]
  },
  {
   "cell_type": "code",
   "execution_count": 6,
   "metadata": {},
   "outputs": [],
   "source": [
    "import pandas as pd\n",
    "from datetime import datetime\n",
    "from sklearn.neighbors import NearestNeighbors\n",
    "from sklearn.feature_extraction.text import TfidfVectorizer\n",
    "\n",
    "from models.article import Article"
   ]
  },
  {
   "cell_type": "code",
   "execution_count": 11,
   "metadata": {},
   "outputs": [
    {
     "name": "stdout",
     "output_type": "stream",
     "text": [
      "SELECT * FROM articles WHERE published_at >= '2018-08-14T00:00:00' AND published_at < '2018-08-15T00:00:00'\n"
     ]
    },
    {
     "data": {
      "text/plain": [
       "1864"
      ]
     },
     "execution_count": 11,
     "metadata": {},
     "output_type": "execute_result"
    }
   ],
   "source": [
    "articles = Article.load_articles_from_db(from_date, to_date)\n",
    "len(articles)"
   ]
  },
  {
   "cell_type": "code",
   "execution_count": 18,
   "metadata": {},
   "outputs": [
    {
     "name": "stdout",
     "output_type": "stream",
     "text": [
      "   distance  \\\n",
      "0  0.982914   \n",
      "1  0.988990   \n",
      "2  1.054206   \n",
      "3  1.072476   \n",
      "4  1.089114   \n",
      "5  1.133798   \n",
      "6  1.133871   \n",
      "7  1.216241   \n",
      "8  1.216255   \n",
      "\n",
      "                                                                                                          titles  \\\n",
      "0  Labour frustrated as message drowned out by Corbyn wreath row                                                   \n",
      "1  Jeremy Corbyn will not apologise over Tunisia wreath row                                                        \n",
      "2  To put antisemitism claims behind him, Jeremy Corbyn needs to state clearly his position on Israel              \n",
      "3  The Corbyn wreath ‘scandal’ is just an exercise in hypocrisy | Owen Jones                                       \n",
      "4  No, this Netanyahu row won\"t destroy Corbyn – it will only make him stronger                                    \n",
      "5  Tory peer admits he was also at Palestinian conference at centre of Jeremy Corbyn\"s wreath-laying controversy   \n",
      "6  Netanyahu is a brutal bully – but only blind Corbyn cultists could say he was wrong about the wreath-laying     \n",
      "7  BDS: how a controversial non-violent movement has transformed the Israeli-Palestinian debate                    \n",
      "8  News Daily: \"More powers\" for social housing tenants and pension scam revealed                                  \n",
      "\n",
      "                                                                                                                                                                                                                                                                                                                                                                                                                                                                                                                                                                                                                                                                                                                                                                                                                                                                                                                                                                                                                                                                                                                                                                                                                                                                                                                                                                                                                                                                                                                                                                                                                                                                                                                     named_entities  \\\n",
      "0  [Jeremy Corbyn, Labour, Tunisian, Corbyn, Daily Mail, Israeli, PLO, Tunisia, Palestinian, Israel, Munich Olympics, Corbyn Palestinian, UK, Corbyn Palestinians, Israeli PLO, Israeli Benjamin Netanyahu, Corbyn Labour, John McDonnell, Netanyahu, Corbyn Corbyn, Palestinian Chris Williamson, BBC, Jeremy Corbyn Nelson Mandela, Labour Britain, Labour McDonnell, IRA, British, IRA Bobby Sands, McDonnell, McDonnell Labour MP Margaret Hodge, Corbyn Guardian, Corbyn Jess Phillips, Luciana Berger, Labour IHRA, IHRA, Labour Jeremy Corbyn, Corbyn Momentum, Jon Lansman, IHRA Labour, Labour MPs, Westminster, Corbyn Jeremy]                                                                                                                                                                                                                                                                                                                                                                                                                                                                                                                                                                                                                                                                                                                                                                                                                                                                                                                                                                                                                                                                                              \n",
      "1  [Jeremy Corbyn, Munich, Labour, Tunis, Israel, PM Benjamin, Corbyn, Israeli, Munich Daily Mail, Black, Palestinian, Israeli West German, Tunis Middle East, Palestine Liberation Organisation, Tunisian, Israeli Labour, Tory, Lord Sheikh, Conservative Muslim Forum, Press, Labour MP Luciana Berger, Labour Corbyn, Berger]                                                                                                                                                                                                                                                                                                                                                                                                                                                                                                                                                                                                                                                                                                                                                                                                                                                                                                                                                                                                                                                                                                                                                                                                                                                                                                                                                                                                     \n",
      "2  [Tunisia, Israel, Benjamin Netanyahu, Jeremy Corbyn, Munich Olympics, Corbyn, Palestinian, Tunisia Palestinian, International Conference, Palestinian Legal Situation, Israeli, Netanyahu, Palestinian Palestine Liberation Organisation, Hamas, Hezbollah, Grainy, Palestinian Ted Heath, Harold Wilson, Golda Meir, Yasser Arafat, Europe, Corbynistas, Corbyn Corbyn, Israeli Israel, Does Mr Corbyn, Palestinian Israeli, Israel Israel, International Holocaust Remembrance Alliance, Israel Jewish, Middle East, Israeli British, Israel Jerusalem, Tel Aviv, Gaza City, Tunisia Brexit, Nato, Russia, Trump, Middle East Benjamin Netanyhu, Jeremy Corbyn Israel, Independent, FinalSay]                                                                                                                                                                                                                                                                                                                                                                                                                                                                                                                                                                                                                                                                                                                                                                                                                                                                                                                                                                                                                                    \n",
      "3  [Britain, Jack Straw, Palestinian, Yasser Arafat, Labour, Israeli, Ariel Sharon, Arafat, Israeli Danny Naveh, Arafat Munich, Palestinian Liberation Organisation, Arafat Israelis, Israeli Straw, Arafat PLO, Palestinian Israel, Which, Jeremy Corbyn, Tunis, Corbyn, Tunisian, Moncef Marzouki, Zine El Abidine Ben Ali, Palestinian Israelis, PLO, Margaret Thatcher, Israeli Israel, PLO Salah Khalaf, Atef Bseiso, Corbyn Khalaf, Khalaf, Western, Black September, Bseiso, Munich, Khalaf Arafat, PLO Corbyn, Khalaf Straw, Arafat Khalaf, Bseiso PLO, Fatah, Labour Britain, Jewish, Palestinian Palestinian, Israeli Israeli, Israeli Palestinians, Munich Ariel Sharon, Palestinian Lebanese, Israel, Phalangist, Sabra, Shatila, Israeli Sharon, Tony Blair, Israeli Benjamin Netanyahu, Corbyn Palestinian, Israeli Israeli Arab, Netanyahu, Hungary, Viktor Orbán, George Soros, Corbyn Corbyn, Israeli Palestinian, Labour Palestinian]                                                                                                                                                                                                                                                                                                                                                                                                                                                                                                                                                                                                                                                                                                                                                                               \n",
      "4  [Jeremy Corbyn, Israeli, Netanyahu, Corbyn, Netanyahu Corbyn, Israel, Nazis, Corbyn Tunisian, Israeli Corbyn, PLO, Israeli Along, Netanyahu Israel, Nazis Hajo Meier, Holocaust Memorial, Netanyahu Hitler, Palestinians, Holocaust, Israeli Labour Party, Netanyahu IRA, Sinn Fein, IRA, Sun, Manchester, Corbyn Blood, Hands, Manchester IRA, Corbyn Steve Baker, Tory, Andrew Neil, Labour Party, Labour, Corbyn Corbyn, Labour Corbyn, Pinochet, Irish, Palestinian, Britain, Good, Martin McGuinness, British Army, Northern Ireland, British, Protestant, Corbyn Oslo Accords, Israeli PLO, Yasser Arafat, Israeli US, Downing Street, British Palestinian, Israel West Bank, Lebanon, Gaza, Netanyahu Corbyn Corbyn, Netanyahu Independent, FinalSay]                                                                                                                                                                                                                                                                                                                                                                                                                                                                                                                                                                                                                                                                                                                                                                                                                                                                                                                                                                       \n",
      "5  [Palestinian, Tunisia Jeremy Corbyn, Munich, Muslim Foundation, CMF, Lord Sheikh, Corbyn, Tory, Hamas, Tunis, Labour, Corbyn Munich, Israeli, Tunisia, Lord Sheikh Tunisia, International Conference, Palestinian Legal Situation, Israeli African, Tory Jeremy Corbyn, Jeremy Corbyn, Lord Sheikh CMF, Boris Johnson, CMF Lord Sheikh, Tunisia Palestinian, Hamas Hamas, Palestine, Palestine House, Lords, Hamas Black, Munich Israeli, Labour Israeli, Channel, Israeli UN Security Council, UK, US, Mossad, Paris, Look, Munich Independent, FinalSay]                                                                                                                                                                                                                                                                                                                                                                                                                                                                                                                                                                                                                                                                                                                                                                                                                                                                                                                                                                                                                                                                                                                                                                         \n",
      "6  [Jeremy Corbyn, Tunisian, Palestinians, Israeli, PLO, Tunis, Black, Israeli Munich Olympics, Ken Livingstone, New York Times, Hours, Benjamin Netanyahu, Corbyn, Twitter, Corbyn Bibi, Israeli Palestinians, Gaza, March, Israeli Netanyahu, Trumpian, Corbyn Labour, Labour, Tory, Corbyn Greek, Seinfeld, Limo, George, Jerry, JFK, George O, O, Hitler, Madison Square Gardens, Did Corbyn, Tunis Israeli, Munich, Netanyahu, Britain, Yad Vashem, Western Wall, Tunis Brexit, Independent, FinalSay]                                                                                                                                                                                                                                                                                                                                                                                                                                                                                                                                                                                                                                                                                                                                                                                                                                                                                                                                                                                                                                                                                                                                                                                                                           \n",
      "7  [Boycott, Divestment, Sanctions, Israel, BDS, Israelis, Palestinians, Arab, Israel Palestinian, Ramallah, Israel Palestine Liberation Organization, Palestinians Israeli, Israeli, Palestinians Israeli Israeli, Palestinians Europe, Israel Palestinian Gaza, West Bank, BDS Israel, Airbnb, West Bank Palestinian, Israeli Palestinian, Israel UK, BDS US, BDS Israel Israel, American Civil Liberties Union, Protestant, US, Israel Zionist, Palestinians Israel, US Democrats, Trump, Jewish, BDS Israeli, Israel Israel, Israel Palestinian Jewish, Palestinians Jewish, Palestinian, Israel BDS, Israel BDS Middle East, Israel Gaza, East Jerusalem, West Bank Palestinian Israel, BDS Palestinians, BDS Zionism, Jewish Israel, West Bank Gaza, Old City, Bethlehem, Manger Square, Holy Land Trust, Palestinian Israeli, Sami Awad, Gene Sharp, Mahatma Gandhi, Nelson Mandela, Martin Luther, Israeli American Jews, Palestinian Israel, Palestinians No, Arabs, Zionism, Israel Zionist Arab, Arab Arabs, Arab Palestine Arab Congress, Jewish Israel West Bank, Gaza, Palestinian Israeli Israel, Sami, Mubarak Awad, Palestinian Mubarak, Palestinians Hebrew, Palestinian Gandhi, British, Israeli Palestinian Mubarak, Israeli Israeli, Israeli Palestinian Bank, Israel Palestinian Israel, Mubarak, Israel Sami Awad, Bethlehem Oslo, PLO, Arab West Bank, Gaza Palestinian, NGOs, Awad, Palestinians Palestinian, West Bank Palestinian West Bank, Israeli West Bank, Palestinian Israel Palestinian, Oslo, Awad Palestinian, Israeli Holy Land Trust, Awad Israeli-Palestinian, Israel Awad, West Bank Israelis, Palestinians West Bank, Jerusalem, West Bank Israel, East Jerusalem Palestinian, Dense, ...]   \n",
      "8  [Social, England, Labour, England BBC, Britain, BBC, BBC Tom Barton, Jeremy Corbyn, Benjamin Netanyahu, Israeli, Palestinians, Munich Olympics, Netanyahu, Labour Israel, Gaza, Barton, British, Lawrence Okettayot, Uganda, Africa, Food, UN, Uganda Lawrence, Sparky Dryer, Daily Mail, Jeremy Corbyn Israel, Palestinians Munich, Daily Telegraph, Labour Benjamin Netanyahu, Guardian, Turkey, Turkish, Daily Star, Spanish, Benidorm, BBC Aretha Franklin The Queen, Soul, European, National Statistics, Carey Dean Moore, Kursk, Russian, Arctic Circle, UK, Pool, How Bill Browder, Russia, New Yorker]                                                                                                                                                                                                                                                                                                                                                                                                                                                                                                                                                                                                                                                                                                                                                                                                                                                                                                                                                                                                                                                                                                                    \n",
      "\n",
      "                                                                                                                                                               url  \n",
      "0  https://www.theguardian.com/politics/2018/aug/14/labour-frustrated-as-message-drowned-out-by-corbyn-wreath-row                                                   \n",
      "1  https://www.bbc.co.uk/news/uk-politics-45185931                                                                                                                  \n",
      "2  https://www.independent.co.uk/voices/editorials/to-put-antisemitism-claims-behind-him-jeremy-corbyn-needs-to-state-clearly-his-position-on-israel-a8491716.html  \n",
      "3  https://www.theguardian.com/commentisfree/2018/aug/14/corbyn-wreath-terror-victims-memorial-israel-palestinian                                                   \n",
      "4  https://www.independent.co.uk/voices/jeremy-corbyn-netanyahu-jewish-munich-wreath-palestine-plo-a8491391.html                                                    \n",
      "5  https://www.independent.co.uk/news/uk/politics/conservative-jeremy-corbyn-wreath-laying-lord-sheikh-a8491641.html                                                \n",
      "6  https://www.independent.co.uk/voices/benjamin-netanyahu-jeremy-corbyn-bully-israel-prime-minister-wreath-laying-a8491561.html                                    \n",
      "7  https://www.theguardian.com/news/2018/aug/14/bds-boycott-divestment-sanctions-movement-transformed-israeli-palestinian-debate                                    \n",
      "8  https://www.bbc.co.uk/news/uk-45177114                                                                                                                           \n"
     ]
    }
   ],
   "source": [
    "# Create tf_idf matrix from articles\n",
    "test_url = 'https://www.bbc.co.uk/news/uk-politics-45208358'\n",
    "test_article = Article(test_url, '', '', '', datetime.now())\n",
    "\n",
    "\n",
    "# List of named entities\n",
    "named_entities_list = list(map(lambda x: ' '.join(x.named_entities), articles))\n",
    "named_entities_list.append(' '.join(test_article.named_entities))\n",
    "\n",
    "# TF-IDF matrix\n",
    "tfidf_vectorizer = TfidfVectorizer()\n",
    "tfidf_matrix = tfidf_vectorizer.fit_transform(named_entities_list)\n",
    "\n",
    "# Fit KNN\n",
    "nbrs = NearestNeighbors(n_neighbors=10) \n",
    "nbrs.fit(tfidf_matrix)\n",
    "\n",
    "# Predict\n",
    "test_row = tfidf_matrix.getrow(len(named_entities_list) - 1)\n",
    "distances, indices = nbrs.kneighbors(test_row)\n",
    "\n",
    "# Format predictions\n",
    "similar_articles = []\n",
    "for idx in indices.flatten()[1:]:\n",
    "    similar_articles.append(articles[idx])\n",
    "    \n",
    "df = pd.DataFrame({\n",
    "    'distance': distances.flatten()[1:],\n",
    "    'titles': list(map(lambda x: x.title, similar_articles)),\n",
    "    'named_entities': list(map(lambda x: x.named_entities, similar_articles)),\n",
    "    'url': list(map(lambda x: x.url, similar_articles)),\n",
    "\n",
    "})\n",
    "pd.set_option('display.max_colwidth', -1)\n",
    "print(df)"
   ]
  },
  {
   "cell_type": "code",
   "execution_count": null,
   "metadata": {},
   "outputs": [],
   "source": []
  }
 ],
 "metadata": {
  "kernelspec": {
   "display_name": "Python [conda env:Python3]",
   "language": "python",
   "name": "conda-env-Python3-py"
  },
  "language_info": {
   "codemirror_mode": {
    "name": "ipython",
    "version": 3
   },
   "file_extension": ".py",
   "mimetype": "text/x-python",
   "name": "python",
   "nbconvert_exporter": "python",
   "pygments_lexer": "ipython3",
   "version": "3.6.5"
  }
 },
 "nbformat": 4,
 "nbformat_minor": 2
}
