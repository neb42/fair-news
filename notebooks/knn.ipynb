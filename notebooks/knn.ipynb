{
 "cells": [
  {
   "cell_type": "code",
   "execution_count": 1,
   "metadata": {},
   "outputs": [],
   "source": [
    "%load_ext autoreload\n",
    "%autoreload 2"
   ]
  },
  {
   "cell_type": "code",
   "execution_count": 2,
   "metadata": {},
   "outputs": [],
   "source": [
    "import os\n",
    "import sys\n",
    "module_path = os.path.abspath(os.path.join('..'))\n",
    "if module_path not in sys.path:\n",
    "    sys.path.append(module_path)"
   ]
  },
  {
   "cell_type": "code",
   "execution_count": 3,
   "metadata": {},
   "outputs": [],
   "source": [
    "article_date = '2018-12-21'"
   ]
  },
  {
   "cell_type": "code",
   "execution_count": 4,
   "metadata": {},
   "outputs": [],
   "source": [
    "import ast\n",
    "import pandas as pd\n",
    "from datetime import datetime\n",
    "from sklearn.neighbors import NearestNeighbors\n",
    "from sklearn.feature_extraction.text import TfidfVectorizer\n",
    "from sherlockml import datasets\n",
    "\n",
    "from models.article import Article"
   ]
  },
  {
   "cell_type": "code",
   "execution_count": 30,
   "metadata": {},
   "outputs": [],
   "source": [
    "def load_article_from_datasets(foo):\n",
    "    articles = []\n",
    "    with datasets.open(f'/input/article_content/{foo}.csv') as f:\n",
    "        df = pd.read_csv(f, sep='\\t', encoding='utf-8')\n",
    "    for row in df.iterrows():\n",
    "        try:\n",
    "            articles.append(Article(\n",
    "                row[1]['article_url'], \n",
    "                row[1]['article_title'],\n",
    "                row[1]['article_description'],\n",
    "                row[1]['source_id'],\n",
    "                row[1]['published_at'],\n",
    "                row[1]['article_uuid'],\n",
    "                ast.literal_eval(row[1]['named_entities']),\n",
    "                None,\n",
    "                row[1]['raw_content']\n",
    "            ))\n",
    "        except:\n",
    "            pass\n",
    "    return articles"
   ]
  },
  {
   "cell_type": "code",
   "execution_count": 31,
   "metadata": {},
   "outputs": [],
   "source": [
    "articles = load_article_from_datasets(article_date)"
   ]
  },
  {
   "cell_type": "code",
   "execution_count": 33,
   "metadata": {
    "scrolled": false
   },
   "outputs": [
    {
     "name": "stdout",
     "output_type": "stream",
     "text": [
      "938\n",
      "   distance  \\\n",
      "0  0.000000   \n",
      "1  0.776288   \n",
      "2  0.776288   \n",
      "3  0.776288   \n",
      "4  0.807353   \n",
      "5  0.846096   \n",
      "6  0.846096   \n",
      "7  0.899571   \n",
      "8  0.947355   \n",
      "\n",
      "                                                                           titles  \\\n",
      "0  US government shutdown looms over border wall row                                \n",
      "1  UPDATE 1-U.S. government partially shut down in fight over Trump's border wall   \n",
      "2  Government partially shut down in fight over Trump's border wall                 \n",
      "3  U.S. government partially shut down in fight over Trump's border wall            \n",
      "4  Trump and Democrats play blame game over government shutdown                     \n",
      "5  'TWAS THE SHUTDOWN BEFORE CHRISTMAS...                                           \n",
      "6  The Latest: Negotiations expected to resume over shutdown                        \n",
      "7  U.S. government partially shut down in fight over Trump's border wall            \n",
      "8  America’s government shuts down, once again                                      \n",
      "\n",
      "                                                                                                                                                                                                                                                                                                                                                                                                                                                                                                                                                                                                                                                                                                                                                                                                                                           named_entities  \\\n",
      "0  [US, US Donald Trump, Mexican, US Congress, State, Homeland Security, Transportation, Agriculture, US Senate, Trump, House, Democrats, House House, Capitol Hill, Senate, Mitch McConnell, Senate Democrats, Trump Democrats, Democrats Senate Democratic, Chuck Schumer, Trump Christmas, Trump Senate, McConnell, Republican, National Parks, Internal Revenue Service, IRS, Food, Drug, Martin Ely, Arizona, IRS Congress, Holidays, Trump US, Mexico, Trump MMS]                                                                                                                                                                                                                                                                                                                                                                                     \n",
      "1  [WASHINGTON, Reuters, U.S., Donald Trump, Democrats, Trump, U.S.-Mexico, Congress, Democrats Border Security, Gangs, Drugs, Human Trafficking, Trump U.S. Senate, House, Representatives, Trump White House, Senate, Mitch McConnell, Senate Democrats, White House, Senate Democrats McConnell, Trump Democratic, Republican, U.S. House, Representatives Senate, Trump Democrats, Democrats Trump, Trump Christmas, Senate Democratic, Chuck Schumer, Senate Homeland Security, Justice, Agriculture, U.S. Parks, National Park Service, Republican House, Senate Trump, Republican Democratic, Schumer, House Democratic, Nancy Pelosi, House Democratic Defense, James Mattis, Trump U.S., Syria, Syria Congress, Trump Congress, Trump Democrats Democratic, Bill Clinton, Medicare, Clinton, Democratic, Barack Obama, Affordable Care Act]        \n",
      "2  [WASHINGTON, Reuters, U.S., Donald Trump, Democrats, Trump, U.S.-Mexico, Congress, Democrats Border Security, Gangs, Drugs, Human Trafficking, Trump U.S. Senate, House, Representatives, Trump White House, Senate, Mitch McConnell, Senate Democrats, White House, Senate Democrats McConnell, Trump Democratic, Republican, U.S. House, Representatives Senate, Trump Democrats, Democrats Trump, Trump Christmas, Senate Democratic, Chuck Schumer, Senate Homeland Security, Justice, Agriculture, U.S. Parks, National Park Service, Republican House, Senate Trump, Republican Democratic, Schumer, House Democratic, Nancy Pelosi, House Democratic Defense, James Mattis, Trump U.S., Syria, Syria Congress, Trump Congress, Trump Democrats Democratic, Bill Clinton, Medicare, Clinton, Democratic, Barack Obama, Affordable Care Act]        \n",
      "3  [WASHINGTON, Reuters, U.S., Donald Trump, Democrats, Trump, U.S.-Mexico, Congress, Democrats Border Security, Gangs, Drugs, Human Trafficking, Trump U.S. Senate, House, Representatives, Trump White House, Senate, Mitch McConnell, Senate Democrats, White House, Senate Democrats McConnell, Trump Democratic, Republican, U.S. House, Representatives Senate, Trump Democrats, Democrats Trump, Trump Christmas, Senate Democratic, Chuck Schumer, Senate Homeland Security, Justice, Agriculture, U.S. Parks, National Park Service, Republican House, Senate Trump, Republican Democratic, Schumer, House Democratic, Nancy Pelosi, House Democratic Defense, James Mattis, Trump U.S., Syria, Syria Congress, Trump Congress, Trump Democrats Democratic, Bill Clinton, Medicare, Clinton, Democratic, Barack Obama, Affordable Care Act]        \n",
      "4  [US, Democrats, Congress, Donald Trump, Trump, Americans, Democratic, Christmas, Washington, Trump James Mattis, Trump White House, Christmas Florida, Senate, Democrats Democrats, Trump Democratic, Chuck Schumer, Nancy Pelosi, American, Trump House, Trump House Senate, Senate Republican, Mitch McConnell, Democrats Trump, Schumer, Pelosi, Democrats House, Trump House Tom Steyer, Trump Trump, American Trump, Syria, Mattis, Senate Trump, White House, Shutdown, Syria FAKE, Democrats Border Security, Gangs, Drugs, Human Trafficking, White House Melania Trump, Florida, Ivanka Trump, Jared Kushner, Washington White House, Mick Mulvaney, Nasa, Internal Revenue Service, National Park Service, Senate House, US Postal Service, Social, FBI, Transportation Security]                                                              \n",
      "5  [Latest, Schumer, Senate, Chuck Schumer, D-N.Y., Democratic, Donald Trump, Washington, AP, Scott Applewhite, WASHINGTON, AP Latest, Senate Donald Trump, Mexico, Chuck Schumer New York, Trump, Senate Trump, Schumer Trump, Congress, Senate Mitch McConnell, Donald Trump Democrats, Trump U.S.-Mexico, Senate McConnell, Democratic Trump, Trump Mexico, House, Senate Donald Trump White House, Senate Democratic, Washington Trump, Trump Mike Pence, White House, Senate Chuck Schumer, House Paul Ryan, Washington House, Senate White House, Mick Mulvaney, Trump Congressional Democrats, Donald Trump U.S.-Mexico, Homeland Security, Transportation, Interior, Agriculture, State, Justice, U.S.-Mexico, Congressional Democrats, Donald Trump Mike Pence, Trump Jared Kushner, White House Mick Mulvaney, Capitol, Mulvaney, House Senate]   \n",
      "6  [Latest, Schumer, Senate, Chuck Schumer, D-N.Y., Democratic, Donald Trump, Washington, AP, Scott Applewhite, WASHINGTON, AP Latest, Senate Donald Trump, Mexico, Chuck Schumer New York, Trump, Senate Trump, Schumer Trump, Congress, Senate Mitch McConnell, Donald Trump Democrats, Trump U.S.-Mexico, Senate McConnell, Democratic Trump, Trump Mexico, House, Senate Donald Trump White House, Senate Democratic, Washington Trump, Trump Mike Pence, White House, Senate Chuck Schumer, House Paul Ryan, Washington House, Senate White House, Mick Mulvaney, Trump Congressional Democrats, Donald Trump U.S.-Mexico, Homeland Security, Transportation, Interior, Agriculture, State, Justice, U.S.-Mexico, Congressional Democrats, Donald Trump Mike Pence, Trump Jared Kushner, White House Mick Mulvaney, Capitol, Mulvaney, House Senate]   \n",
      "7  [WASHINGTON, Reuters, U.S., Donald Trump, Congress, Mexico, White House, Christmas, Trump, Democratic, Republican, U.S. House, Representatives, Senate, House, Senate Mike Pence, White House Congress, Democrats, Trump Trump, Christmas Senate Democratic, Chuck Schumer, Senate Homeland Security, Justice, Agriculture, House Senate, Trump Republican, Democratic Congress, Democrats House, Trump Defense, James Mattis, Trump U.S., Syria, Syria Congress, Trump Congress, Trump Ginger Gibson, James Oliphant, Richard Cowan, Humeyra Pamuk, Roberta Rampton, Katanga Johnson Editing, Kieran Murray]                                                                                                                                                                                                                                            \n",
      "8  [Donald Trump, Mexico, American, Trump, Democrats, Washington, House, Representatives, White House, House White House, American Democrats, Republican, Republican Oval Office, Nancy Pelosi, Chuck Schumer, Democratic, House Senate, Trump House, Senate, Democratic Democratic, Senate Trump, Democrats Twitter, Dems, Open Borders, Later, Democrats Ryan Costello, Republican Pennsylvania, Democrats House, Senate House, Senate Costello, House Trump, Mitch McConnell, Nuclear Option, House McConnell, Trump Senate, House Republican, Democratic House, Democrats White House, Fox News, Democrats Washington, America, Bloomberg, Federal Reserve, White House Jim Mattis, John Kelly]                                                                                                                                                         \n",
      "\n",
      "                                                                                                   url  \n",
      "0  https://www.bbc.co.uk/news/world-us-canada-46657393                                                  \n",
      "1  https://uk.reuters.com/article/uk-usa-congress-budget-idUKKCN1OL04A                                  \n",
      "2  https://www.reuters.com/article/us-usa-congress-budget-idUSKCN1OL04C                                 \n",
      "3  https://af.reuters.com/article/worldNews/idAFKCN1OL04A                                               \n",
      "4  https://www.theguardian.com/us-news/2018/dec/22/donald-trump-democrats-government-shutdown           \n",
      "5  https://www.apnews.com/c89665540a064ddabef3da9b2308420a                                              \n",
      "6  https://apnews.com/c89665540a064ddabef3da9b2308420a                                                  \n",
      "7  https://www.reuters.com/article/usa-congress-budget-idUSL1N1YR02H                                    \n",
      "8  https://www.economist.com/democracy-in-america/2018/12/22/americas-government-shuts-down-once-again  \n"
     ]
    }
   ],
   "source": [
    "# Create tf_idf matrix from articles\n",
    "test_url = 'https://www.bbc.co.uk/news/world-us-canada-46657393'\n",
    "test_article = Article(test_url, '', '', '', datetime.now())\n",
    "\n",
    "# List of named entities\n",
    "named_entities_list = list(map(lambda x: ' '.join(x.named_entities), articles))\n",
    "named_entities_list.append(' '.join(test_article.named_entities))\n",
    "\n",
    "# TF-IDF matrix\n",
    "tfidf_vectorizer = TfidfVectorizer()\n",
    "tfidf_matrix = tfidf_vectorizer.fit_transform(named_entities_list)\n",
    "\n",
    "# Fit KNN\n",
    "nbrs = NearestNeighbors(n_neighbors=10) \n",
    "nbrs.fit(tfidf_matrix)\n",
    "\n",
    "# Predict\n",
    "test_row = tfidf_matrix.getrow(len(named_entities_list) - 1)\n",
    "distances, indices = nbrs.kneighbors(test_row)\n",
    "\n",
    "# Format predictions\n",
    "similar_articles = []\n",
    "for idx in indices.flatten()[1:]:\n",
    "    similar_articles.append(articles[idx])\n",
    "    \n",
    "df = pd.DataFrame({\n",
    "    'distance': distances.flatten()[1:],\n",
    "    'titles': list(map(lambda x: x.title, similar_articles)),\n",
    "    'named_entities': list(map(lambda x: x.named_entities, similar_articles)),\n",
    "    'url': list(map(lambda x: x.url, similar_articles)),\n",
    "})\n",
    "pd.set_option('display.max_colwidth', -1)\n",
    "print(df)"
   ]
  },
  {
   "cell_type": "code",
   "execution_count": null,
   "metadata": {},
   "outputs": [],
   "source": []
  }
 ],
 "metadata": {
  "kernelspec": {
   "display_name": "Python [conda env:Python3]",
   "language": "python",
   "name": "conda-env-Python3-py"
  },
  "language_info": {
   "codemirror_mode": {
    "name": "ipython",
    "version": 3
   },
   "file_extension": ".py",
   "mimetype": "text/x-python",
   "name": "python",
   "nbconvert_exporter": "python",
   "pygments_lexer": "ipython3",
   "version": "3.6.7"
  }
 },
 "nbformat": 4,
 "nbformat_minor": 2
}
