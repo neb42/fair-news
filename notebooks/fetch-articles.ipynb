{
 "cells": [
  {
   "cell_type": "code",
   "execution_count": 1,
   "metadata": {},
   "outputs": [],
   "source": [
    "%load_ext autoreload\n",
    "%autoreload 2"
   ]
  },
  {
   "cell_type": "code",
   "execution_count": 2,
   "metadata": {},
   "outputs": [],
   "source": [
    "import os\n",
    "import sys\n",
    "module_path = os.path.abspath(os.path.join('..'))\n",
    "if module_path not in sys.path:\n",
    "    sys.path.append(module_path)"
   ]
  },
  {
   "cell_type": "code",
   "execution_count": 3,
   "metadata": {},
   "outputs": [],
   "source": [
    "from_date = '2018-08-14T00:00:00'\n",
    "to_date = '2018-08-15T00:00:00'"
   ]
  },
  {
   "cell_type": "code",
   "execution_count": 4,
   "metadata": {},
   "outputs": [],
   "source": [
    "from models.article import Article\n",
    "from models.raw_article import RawArticle"
   ]
  },
  {
   "cell_type": "code",
   "execution_count": 5,
   "metadata": {},
   "outputs": [
    {
     "data": {
      "text/plain": [
       "1966"
      ]
     },
     "execution_count": 5,
     "metadata": {},
     "output_type": "execute_result"
    }
   ],
   "source": [
    "raw_articles = RawArticle.get_raw_articles(from_date, to_date)\n",
    "len(raw_articles)"
   ]
  },
  {
   "cell_type": "code",
   "execution_count": 7,
   "metadata": {
    "scrolled": true
   },
   "outputs": [
    {
     "name": "stdout",
     "output_type": "stream",
     "text": [
      "Running on 4 cores\n",
      "Error\n",
      "0\n",
      "<map object at 0x7fcbd068ce48>\n",
      "Error\n",
      "3\n",
      "<map object at 0x7fcbd068ce48>\n",
      "Error\n",
      "3\n",
      "<map object at 0x7fcb9196b2b0>\n",
      "Error\n",
      "5\n",
      "<map object at 0x7fcbd068ce48>\n",
      "Finished\n"
     ]
    },
    {
     "data": {
      "text/plain": [
       "1955"
      ]
     },
     "execution_count": 7,
     "metadata": {},
     "output_type": "execute_result"
    }
   ],
   "source": [
    "articles = Article.build_articles(raw_articles)\n",
    "len(articles)"
   ]
  },
  {
   "cell_type": "code",
   "execution_count": 8,
   "metadata": {},
   "outputs": [
    {
     "name": "stdout",
     "output_type": "stream",
     "text": [
      "https://www.theguardian.com/commentisfree/picture/2018/aug/14/steve-bell-on-jeremy-corbyn-row-with-benjamin-netanyahu-cartoon\n",
      "https://www.nytimes.com/2018/08/14/opinion/letters/magicians.html\n",
      "https://apnews.com/31c523d6eaee471d82950a86abe58057\n",
      "https://apnews.com/7d974b89719442c0ba2af76cd1278729\n",
      "https://apnews.com/f11b544356cc4311ae19a028605e1b33\n",
      "https://apnews.com/ed7aeb25d6bd473089db5de8a200e586\n",
      "https://apnews.com/c8d22042662c41dbb99ad13fcad4a440\n",
      "https://www.telegraph.co.uk/news/2018/08/14/live-white-house-press-briefing-amid-trumps-row-former-aide/\n",
      "https://apnews.com/a28ec0f50cfd4696acaebd89e091de20\n",
      "https://apnews.com/74cd1e6044534bf4b58b11f805c6fa1b\n",
      "https://apnews.com/b0e77f71ed09437d86659a0318cf569f\n",
      "https://apnews.com/8f8b4b5ffe14448cb59150c74fdadad0\n",
      "https://apnews.com/f0a1bf34ec17475b9046f6fedd7b9485\n",
      "https://apnews.com/ab072b88ee9042ada2d9942c1f37004a\n",
      "https://apnews.com/f9bb37c6b3834f6684b5331f09b44050\n",
      "https://apnews.com/0f3087b110124207849dfbeb5bd4b731\n",
      "https://apnews.com/4339ea75f2884eda8ad768ea5a2278c6\n",
      "https://www.bbc.co.uk/news/uk-england-london-45186338\n",
      "https://apnews.com/9bdc384c3eb04f00a896494557d72f49\n",
      "https://www.wsj.com/articles/how-to-make-it-through-a-boring-day-job-1497963602\n",
      "https://www.bbc.co.uk/news/uk-england-kent-45180194\n",
      "https://www.bbc.co.uk/news/uk-england-london-45179965\n",
      "https://apnews.com/30c35c5d53a541698010c669f38a2362\n",
      "https://apnews.com/bcf85f62f704402099e333efe8f13dfd\n",
      "https://apnews.com/0bd76ad5ae2c4cf1a18d2ca4ebe27cf9\n",
      "https://apnews.com/11a3af4eb36a41889b531ffef5364926\n",
      "https://www.reuters.com/article/baseball-mlb-oak-sea-recap/athletics-hang-on-for-7-6-win-over-mariners-idUSMTZEE8EFRMNN2\n",
      "https://www.reuters.com/article/britain-stocks-factors/uk-stocks-factors-to-watch-on-aug-14-idUSL4N1V52L4\n",
      "https://www.telegraph.co.uk/travel/destinations/oceania/articles/the-south-pacific-tourists-rarely-see/\n",
      "https://apnews.com/218c543ef5764f35b386057eb1e27240\n",
      "https://apnews.com/1dcb670791dc45d59d9918194fceae0d\n",
      "https://apnews.com/ea27ad2f19504b8cb81403a0bd5129ce\n",
      "https://apnews.com/b9f9b309b78c4e6cb8a995aaea44eba3\n",
      "https://www.economist.com/the-economist-explains/2018/08/14/why-eritrea-is-called-africas-north-korea\n",
      "https://apnews.com/9cf6d032fe944d7185d6c7622ef7d93c\n",
      "https://apnews.com/656331f25fa04ea4b9cde90ccf048aed\n",
      "https://apnews.com/f2126d502f6b4d468f68fbb914b1ecff\n",
      "https://www.reuters.com/article/baseball-mlb-tex-ari-recap/chirinos-dirives-in-4-of-texas-5-runs-in-beating-d-backs-idUSMTZEE8EFL8TKA\n",
      "https://www.reuters.com/article/india-morningcall/morning-news-call-india-august-14-idUSL4N1V5209\n",
      "https://www.reuters.com/article/china-economy-output-power/update-1-heatwave-pushes-chinas-july-power-output-to-highest-in-years-idUSL4N1V51NT\n",
      "https://apnews.com/c46359fa7598427fb250625bf7ec2197\n",
      "https://apnews.com/6585f93c111145e5bdfa3892eab1f806\n",
      "https://apnews.com/9a57deb3e21240799d4984f9d697f74e\n",
      "https://apnews.com/984f4cc20fb844acabc97bf6d0a0f87f\n",
      "https://apnews.com/c9ad39f695414e2294daf816d99599da\n",
      "https://www.reuters.com/article/baseball-mlb-cin-cle-recap/indians-erupt-for-10-runs-in-win-over-reds-idUSMTZEE8EFJT2J2\n",
      "https://apnews.com/5d25f72b63ed4726997c1b5ba6429a5e\n",
      "https://apnews.com/c6069bd879de4db88a2be77b01772c05\n",
      "https://apnews.com/6dbbf0a2e2554ad599ec40e6b3548658\n",
      "https://apnews.com/254a9648a0744620a1aa275075301b8c\n",
      "https://apnews.com/ed74ea1804cf4f7fa5baefc4c570d050\n",
      "https://apnews.com/9859889036bd40ee828617ebd1f92695\n",
      "https://jp.reuters.com/article/%E3%82%A2%E3%82%B8%E3%82%A2%E9%80%9A%E8%B2%A8%E5%8B%95%E5%90%9114%E6%97%A5%EF%BC%9D%E3%82%BF%E3%82%A4%E3%83%90%E3%83%BC%E3%83%84%E4%B8%AD%E5%BF%83%E3%81%AB%E8%BB%9F%E8%AA%BF-idJPL4N1V51DO\n",
      "https://www.theguardian.com/commentisfree/2018/aug/14/vote-now-for-your-favourite-space-force-logo\n",
      "https://www.bbc.co.uk/news/uk-england-suffolk-45176295\n",
      "https://apnews.com/352a3d690d3a436b9019132e13d93c58\n",
      "https://apnews.com/016495c71e3847dea10dd21b95470461\n",
      "https://apnews.com/cda23efddad54c3ebbd2bb91489f7729\n",
      "https://www.bbc.co.uk/news/uk-england-manchester-45177976\n",
      "https://apnews.com/f14ed6cde6464d30a0518369b5cd33d9\n",
      "https://apnews.com/222854d0f3e44d91bd545511b3121115\n",
      "https://www.reuters.com/article/emerging-markets-latam/emerging-markets-latam-equities-rebound-as-lira-fears-fade-idUSL1N1V50OQ\n",
      "https://uk.reuters.com/article/oil-korea-iran/s-koreas-iran-crude-imports-for-july-down-43-5-pct-y-y-customs-idUKENNI870S6\n",
      "https://www.bbc.co.uk/news/av/uk-45187701/westminster-car-crash-treating-it-as-a-terrorist-incident\n",
      "https://www.economist.com/blogs/graphicdetail/2018/08/daily-chart-10?fsrc=rss\n",
      "https://apnews.com/8db91e31a30e45b78b5fa8d1bc0aaaad\n",
      "https://www.bbc.co.uk/news/uk-england-london-45185333\n",
      "https://www.telegraph.co.uk/travel/destinations/europe/united-kingdom/england/london/new-afternoon-teas-in-london-to-try/\n",
      "https://www.economist.com/prospero/2018/08/14/a-new-play-restages-the-trials-of-artemisia-gentileschi\n",
      "https://www.bbc.co.uk/news/uk-england-birmingham-45183556\n",
      "https://www.bbc.co.uk/news/uk-england-hereford-worcester-45183551\n",
      "https://apnews.com/facaa4a033334577a6231ffe8c4a9485\n",
      "https://www.reuters.com/news/picture/editors-choice-pictures-idUSRTS1XB3H\n",
      "https://www.bbc.co.uk/news/uk-england-bristol-45182868\n",
      "https://www.telegraph.co.uk/travel/destinations/europe/greece/articles/lesbos-greek-island-holiday-just-back/\n",
      "https://www.telegraph.co.uk/travel/cruises/articles/which-christmas-market-cruise-should-you-choose/\n",
      "https://www.bbc.co.uk/news/uk-england-london-45179970\n",
      "https://www.telegraph.co.uk/fantasy-sports/fantasy-football/tff-18-19-week-1-review/\n",
      "https://www.telegraph.co.uk/travel/lists/best-budget-airlines/\n",
      "https://www.bbc.co.uk/news/uk-england-shropshire-45182281\n",
      "https://www.independent.co.uk/news/business/news/homebase-store-closures-jobs-risk-diy-chain-sold-one-pound-wesfarmers-a8490761.html\n",
      "https://www.reuters.com/article/easteurope-markets/cee-markets-currencies-rebound-with-turkish-lira-second-quarter-gdp-strong-idUSL5N1V53ED\n",
      "https://www.bbc.co.uk/programmes/p06hf83p\n",
      "https://www.bbc.co.uk/news/uk-england-bristol-45181211\n",
      "https://www.bbc.co.uk/sport/football/45093096\n",
      "https://www.bbc.co.uk/sport/football/45093000\n",
      "https://www.bbc.co.uk/sport/football/45093006\n",
      "https://www.bbc.co.uk/sport/football/45092997\n",
      "https://www.bbc.co.uk/news/uk-england-cornwall-45180873\n",
      "https://www.telegraph.co.uk/travel/destinations/europe/austria/vienna/articles/vienna-most-liveable-city/\n",
      "https://jp.reuters.com/article/idJPL4N1V53UX\n"
     ]
    }
   ],
   "source": [
    "Article.bulk_insert(articles)"
   ]
  },
  {
   "cell_type": "code",
   "execution_count": null,
   "metadata": {},
   "outputs": [],
   "source": []
  }
 ],
 "metadata": {
  "kernelspec": {
   "display_name": "Python [conda env:Python3]",
   "language": "python",
   "name": "conda-env-Python3-py"
  },
  "language_info": {
   "codemirror_mode": {
    "name": "ipython",
    "version": 3
   },
   "file_extension": ".py",
   "mimetype": "text/x-python",
   "name": "python",
   "nbconvert_exporter": "python",
   "pygments_lexer": "ipython3",
   "version": "3.6.5"
  }
 },
 "nbformat": 4,
 "nbformat_minor": 2
}
